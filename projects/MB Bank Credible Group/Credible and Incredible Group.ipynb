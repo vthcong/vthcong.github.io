{
 "cells": [
  {
   "cell_type": "markdown",
   "id": "2d4dd0a5",
   "metadata": {},
   "source": [
    "# <center>Data Mining Project<center>\n",
    "<center>Group 7<center>\n"
   ]
  },
  {
   "cell_type": "markdown",
   "id": "d5817768",
   "metadata": {},
   "source": [
    "## Overview\n",
    "The data collected is about customers' information of a bank, which mainly is the amount in their transactions and their loan group. The data is used for training and validating before using the test data to test."
   ]
  },
  {
   "cell_type": "markdown",
   "id": "10e91641",
   "metadata": {},
   "source": [
    "## Import libraries"
   ]
  },
  {
   "cell_type": "code",
   "execution_count": 1,
   "id": "3031773d",
   "metadata": {},
   "outputs": [],
   "source": [
    "import pandas as pd\n",
    "import numpy as np\n",
    "import matplotlib.pyplot as plt\n",
    "import seaborn as sns\n",
    "%matplotlib inline"
   ]
  },
  {
   "cell_type": "markdown",
   "id": "47c519b2",
   "metadata": {},
   "source": [
    "## The Data"
   ]
  },
  {
   "cell_type": "code",
   "execution_count": 2,
   "id": "0291a391",
   "metadata": {
    "scrolled": true
   },
   "outputs": [],
   "source": [
    "df = pd.read_csv('dataset.csv')"
   ]
  },
  {
   "cell_type": "markdown",
   "id": "50a83058",
   "metadata": {},
   "source": [
    "Vì cần xem xét các nhóm nợ, loại bỏ các giá trị np.nan"
   ]
  },
  {
   "cell_type": "code",
   "execution_count": 3,
   "id": "3ee3cdd0",
   "metadata": {},
   "outputs": [],
   "source": [
    "df = df.dropna(subset = ['nhomno_xhtdJuin2021'])"
   ]
  },
  {
   "cell_type": "markdown",
   "id": "34f1db7b",
   "metadata": {},
   "source": [
    "Thay thế cột năm sinh bằng tuổi của khách hàng (tính đến năm 2020)"
   ]
  },
  {
   "cell_type": "code",
   "execution_count": 4,
   "id": "ff3ec797",
   "metadata": {},
   "outputs": [],
   "source": [
    "df['age'] = 2020 - df.birth_incorp_date"
   ]
  },
  {
   "cell_type": "markdown",
   "id": "b77461cc",
   "metadata": {},
   "source": [
    "Dữ liệu về địa chỉ không cần thiết cho việc phân tích nhóm nợ do các số liệu ở dạng category và có số lượng rất lớn. <br>\n",
    "Dữ liệu để train data chỉ thu thập đến hết 31/12/2020, sử dụng thêm dữ liệu tháng 3 để tham chiếu và cột 'nhomno_xhtdJuin2021' để làm biến phụ thuộc. <br>\n",
    "--> Xoá bỏ những cột không cần thiết, giữ lại những cột khác được tổng hợp để trở thành dataframe như sau:"
   ]
  },
  {
   "cell_type": "code",
   "execution_count": 5,
   "id": "3f157ba9",
   "metadata": {
    "scrolled": false
   },
   "outputs": [],
   "source": [
    "df = pd.concat([df.iloc[:, [35, 0, 1, 50]], df.iloc[:, 6:31], df.nhomno_xhtdJuin2021], axis = 1)\n",
    "df = df.set_index('rd_id')"
   ]
  },
  {
   "cell_type": "markdown",
   "id": "abb43dc4",
   "metadata": {},
   "source": [
    "- **Rename columns**"
   ]
  },
  {
   "cell_type": "code",
   "execution_count": 6,
   "id": "7c2e604b",
   "metadata": {},
   "outputs": [
    {
     "data": {
      "text/html": [
       "<div>\n",
       "<style scoped>\n",
       "    .dataframe tbody tr th:only-of-type {\n",
       "        vertical-align: middle;\n",
       "    }\n",
       "\n",
       "    .dataframe tbody tr th {\n",
       "        vertical-align: top;\n",
       "    }\n",
       "\n",
       "    .dataframe thead th {\n",
       "        text-align: right;\n",
       "    }\n",
       "</style>\n",
       "<table border=\"1\" class=\"dataframe\">\n",
       "  <thead>\n",
       "    <tr style=\"text-align: right;\">\n",
       "      <th></th>\n",
       "      <th>gender</th>\n",
       "      <th>marital_status</th>\n",
       "      <th>age</th>\n",
       "      <th>amount_week</th>\n",
       "      <th>max_amount_week</th>\n",
       "      <th>min_amount_week</th>\n",
       "      <th>distinct_payment_code_week</th>\n",
       "      <th>count_payment_code_week</th>\n",
       "      <th>distinct_trans_group_week</th>\n",
       "      <th>distinct_ref_no_week</th>\n",
       "      <th>...</th>\n",
       "      <th>min_amount_3month</th>\n",
       "      <th>distinct_payment_code_3month</th>\n",
       "      <th>count_payment_code_3month</th>\n",
       "      <th>distinct_trans_group_3month</th>\n",
       "      <th>distinct_ref_no_3month</th>\n",
       "      <th>most_act_mar2021_count</th>\n",
       "      <th>most_act_mar2021</th>\n",
       "      <th>total_act_mar2021</th>\n",
       "      <th>total_amt_mar2021</th>\n",
       "      <th>nhomno_xhtdJuin2021</th>\n",
       "    </tr>\n",
       "    <tr>\n",
       "      <th>rd_id</th>\n",
       "      <th></th>\n",
       "      <th></th>\n",
       "      <th></th>\n",
       "      <th></th>\n",
       "      <th></th>\n",
       "      <th></th>\n",
       "      <th></th>\n",
       "      <th></th>\n",
       "      <th></th>\n",
       "      <th></th>\n",
       "      <th></th>\n",
       "      <th></th>\n",
       "      <th></th>\n",
       "      <th></th>\n",
       "      <th></th>\n",
       "      <th></th>\n",
       "      <th></th>\n",
       "      <th></th>\n",
       "      <th></th>\n",
       "      <th></th>\n",
       "      <th></th>\n",
       "    </tr>\n",
       "  </thead>\n",
       "  <tbody>\n",
       "    <tr>\n",
       "      <th>1570544787</th>\n",
       "      <td>MALE</td>\n",
       "      <td>Single</td>\n",
       "      <td>34.0</td>\n",
       "      <td>NaN</td>\n",
       "      <td>NaN</td>\n",
       "      <td>NaN</td>\n",
       "      <td>NaN</td>\n",
       "      <td>NaN</td>\n",
       "      <td>NaN</td>\n",
       "      <td>NaN</td>\n",
       "      <td>...</td>\n",
       "      <td>1.103180e-04</td>\n",
       "      <td>0</td>\n",
       "      <td>0</td>\n",
       "      <td>2</td>\n",
       "      <td>5</td>\n",
       "      <td>NaN</td>\n",
       "      <td>NaN</td>\n",
       "      <td>NaN</td>\n",
       "      <td>NaN</td>\n",
       "      <td>1.0</td>\n",
       "    </tr>\n",
       "    <tr>\n",
       "      <th>1689551331</th>\n",
       "      <td>MALE</td>\n",
       "      <td>Married</td>\n",
       "      <td>28.0</td>\n",
       "      <td>0.0</td>\n",
       "      <td>0.000476</td>\n",
       "      <td>0.000011</td>\n",
       "      <td>0.0</td>\n",
       "      <td>0.0</td>\n",
       "      <td>1.0</td>\n",
       "      <td>11.0</td>\n",
       "      <td>...</td>\n",
       "      <td>5.920000e-07</td>\n",
       "      <td>1</td>\n",
       "      <td>2</td>\n",
       "      <td>3</td>\n",
       "      <td>141</td>\n",
       "      <td>69.0</td>\n",
       "      <td>Giao dich chuyen khoan</td>\n",
       "      <td>71.0</td>\n",
       "      <td>0.001015</td>\n",
       "      <td>1.0</td>\n",
       "    </tr>\n",
       "    <tr>\n",
       "      <th>498001800</th>\n",
       "      <td>MALE</td>\n",
       "      <td>Married</td>\n",
       "      <td>33.0</td>\n",
       "      <td>NaN</td>\n",
       "      <td>NaN</td>\n",
       "      <td>NaN</td>\n",
       "      <td>NaN</td>\n",
       "      <td>NaN</td>\n",
       "      <td>NaN</td>\n",
       "      <td>NaN</td>\n",
       "      <td>...</td>\n",
       "      <td>8.870000e-07</td>\n",
       "      <td>1</td>\n",
       "      <td>2</td>\n",
       "      <td>3</td>\n",
       "      <td>32</td>\n",
       "      <td>14.0</td>\n",
       "      <td>Giao dich chuyen khoan</td>\n",
       "      <td>21.0</td>\n",
       "      <td>0.000020</td>\n",
       "      <td>1.0</td>\n",
       "    </tr>\n",
       "    <tr>\n",
       "      <th>1519332095</th>\n",
       "      <td>MALE</td>\n",
       "      <td>Single</td>\n",
       "      <td>24.0</td>\n",
       "      <td>0.0</td>\n",
       "      <td>0.000014</td>\n",
       "      <td>0.000079</td>\n",
       "      <td>0.0</td>\n",
       "      <td>0.0</td>\n",
       "      <td>1.0</td>\n",
       "      <td>1.0</td>\n",
       "      <td>...</td>\n",
       "      <td>5.920000e-07</td>\n",
       "      <td>1</td>\n",
       "      <td>6</td>\n",
       "      <td>3</td>\n",
       "      <td>20</td>\n",
       "      <td>3.0</td>\n",
       "      <td>Giao dich chuyen khoan</td>\n",
       "      <td>4.0</td>\n",
       "      <td>0.000012</td>\n",
       "      <td>1.0</td>\n",
       "    </tr>\n",
       "    <tr>\n",
       "      <th>1291881657</th>\n",
       "      <td>MALE</td>\n",
       "      <td>Married</td>\n",
       "      <td>47.0</td>\n",
       "      <td>NaN</td>\n",
       "      <td>NaN</td>\n",
       "      <td>NaN</td>\n",
       "      <td>NaN</td>\n",
       "      <td>NaN</td>\n",
       "      <td>NaN</td>\n",
       "      <td>NaN</td>\n",
       "      <td>...</td>\n",
       "      <td>2.957880e-04</td>\n",
       "      <td>0</td>\n",
       "      <td>0</td>\n",
       "      <td>2</td>\n",
       "      <td>3</td>\n",
       "      <td>1.0</td>\n",
       "      <td>GIAO DICH PHI TAI CHINH</td>\n",
       "      <td>2.0</td>\n",
       "      <td>0.000322</td>\n",
       "      <td>1.0</td>\n",
       "    </tr>\n",
       "    <tr>\n",
       "      <th>...</th>\n",
       "      <td>...</td>\n",
       "      <td>...</td>\n",
       "      <td>...</td>\n",
       "      <td>...</td>\n",
       "      <td>...</td>\n",
       "      <td>...</td>\n",
       "      <td>...</td>\n",
       "      <td>...</td>\n",
       "      <td>...</td>\n",
       "      <td>...</td>\n",
       "      <td>...</td>\n",
       "      <td>...</td>\n",
       "      <td>...</td>\n",
       "      <td>...</td>\n",
       "      <td>...</td>\n",
       "      <td>...</td>\n",
       "      <td>...</td>\n",
       "      <td>...</td>\n",
       "      <td>...</td>\n",
       "      <td>...</td>\n",
       "      <td>...</td>\n",
       "    </tr>\n",
       "    <tr>\n",
       "      <th>675691605</th>\n",
       "      <td>MALE</td>\n",
       "      <td>Single</td>\n",
       "      <td>32.0</td>\n",
       "      <td>NaN</td>\n",
       "      <td>NaN</td>\n",
       "      <td>NaN</td>\n",
       "      <td>NaN</td>\n",
       "      <td>NaN</td>\n",
       "      <td>NaN</td>\n",
       "      <td>NaN</td>\n",
       "      <td>...</td>\n",
       "      <td>3.550000e-05</td>\n",
       "      <td>0</td>\n",
       "      <td>0</td>\n",
       "      <td>1</td>\n",
       "      <td>6</td>\n",
       "      <td>13.0</td>\n",
       "      <td>Giao dich chuyen khoan</td>\n",
       "      <td>14.0</td>\n",
       "      <td>0.000122</td>\n",
       "      <td>1.0</td>\n",
       "    </tr>\n",
       "    <tr>\n",
       "      <th>1417761924</th>\n",
       "      <td>FEMALE</td>\n",
       "      <td>Married</td>\n",
       "      <td>28.0</td>\n",
       "      <td>NaN</td>\n",
       "      <td>NaN</td>\n",
       "      <td>NaN</td>\n",
       "      <td>0.0</td>\n",
       "      <td>0.0</td>\n",
       "      <td>1.0</td>\n",
       "      <td>1.0</td>\n",
       "      <td>...</td>\n",
       "      <td>2.960000e-06</td>\n",
       "      <td>0</td>\n",
       "      <td>0</td>\n",
       "      <td>3</td>\n",
       "      <td>12</td>\n",
       "      <td>8.0</td>\n",
       "      <td>Giao dich chuyen khoan</td>\n",
       "      <td>15.0</td>\n",
       "      <td>0.000063</td>\n",
       "      <td>1.0</td>\n",
       "    </tr>\n",
       "    <tr>\n",
       "      <th>1353717729</th>\n",
       "      <td>MALE</td>\n",
       "      <td>Single</td>\n",
       "      <td>29.0</td>\n",
       "      <td>NaN</td>\n",
       "      <td>NaN</td>\n",
       "      <td>NaN</td>\n",
       "      <td>NaN</td>\n",
       "      <td>NaN</td>\n",
       "      <td>NaN</td>\n",
       "      <td>NaN</td>\n",
       "      <td>...</td>\n",
       "      <td>NaN</td>\n",
       "      <td>0</td>\n",
       "      <td>0</td>\n",
       "      <td>1</td>\n",
       "      <td>2</td>\n",
       "      <td>13.0</td>\n",
       "      <td>Giao dich chuyen khoan</td>\n",
       "      <td>14.0</td>\n",
       "      <td>0.000398</td>\n",
       "      <td>1.0</td>\n",
       "    </tr>\n",
       "    <tr>\n",
       "      <th>681466176</th>\n",
       "      <td>FEMALE</td>\n",
       "      <td>Married</td>\n",
       "      <td>35.0</td>\n",
       "      <td>NaN</td>\n",
       "      <td>NaN</td>\n",
       "      <td>NaN</td>\n",
       "      <td>NaN</td>\n",
       "      <td>NaN</td>\n",
       "      <td>NaN</td>\n",
       "      <td>NaN</td>\n",
       "      <td>...</td>\n",
       "      <td>5.320000e-05</td>\n",
       "      <td>0</td>\n",
       "      <td>0</td>\n",
       "      <td>1</td>\n",
       "      <td>2</td>\n",
       "      <td>1.0</td>\n",
       "      <td>Giao dich thanh toan</td>\n",
       "      <td>1.0</td>\n",
       "      <td>0.000005</td>\n",
       "      <td>1.0</td>\n",
       "    </tr>\n",
       "    <tr>\n",
       "      <th>169195665</th>\n",
       "      <td>NaN</td>\n",
       "      <td>NaN</td>\n",
       "      <td>31.0</td>\n",
       "      <td>0.0</td>\n",
       "      <td>0.001633</td>\n",
       "      <td>0.009083</td>\n",
       "      <td>0.0</td>\n",
       "      <td>0.0</td>\n",
       "      <td>1.0</td>\n",
       "      <td>1.0</td>\n",
       "      <td>...</td>\n",
       "      <td>2.366304e-03</td>\n",
       "      <td>0</td>\n",
       "      <td>0</td>\n",
       "      <td>1</td>\n",
       "      <td>1</td>\n",
       "      <td>NaN</td>\n",
       "      <td>NaN</td>\n",
       "      <td>NaN</td>\n",
       "      <td>NaN</td>\n",
       "      <td>1.0</td>\n",
       "    </tr>\n",
       "  </tbody>\n",
       "</table>\n",
       "<p>29956 rows × 29 columns</p>\n",
       "</div>"
      ],
      "text/plain": [
       "            gender marital_status   age  amount_week  max_amount_week  \\\n",
       "rd_id                                                                   \n",
       "1570544787    MALE         Single  34.0          NaN              NaN   \n",
       "1689551331    MALE        Married  28.0          0.0         0.000476   \n",
       "498001800     MALE        Married  33.0          NaN              NaN   \n",
       "1519332095    MALE         Single  24.0          0.0         0.000014   \n",
       "1291881657    MALE        Married  47.0          NaN              NaN   \n",
       "...            ...            ...   ...          ...              ...   \n",
       "675691605     MALE         Single  32.0          NaN              NaN   \n",
       "1417761924  FEMALE        Married  28.0          NaN              NaN   \n",
       "1353717729    MALE         Single  29.0          NaN              NaN   \n",
       "681466176   FEMALE        Married  35.0          NaN              NaN   \n",
       "169195665      NaN            NaN  31.0          0.0         0.001633   \n",
       "\n",
       "            min_amount_week  distinct_payment_code_week  \\\n",
       "rd_id                                                     \n",
       "1570544787              NaN                         NaN   \n",
       "1689551331         0.000011                         0.0   \n",
       "498001800               NaN                         NaN   \n",
       "1519332095         0.000079                         0.0   \n",
       "1291881657              NaN                         NaN   \n",
       "...                     ...                         ...   \n",
       "675691605               NaN                         NaN   \n",
       "1417761924              NaN                         0.0   \n",
       "1353717729              NaN                         NaN   \n",
       "681466176               NaN                         NaN   \n",
       "169195665          0.009083                         0.0   \n",
       "\n",
       "            count_payment_code_week  distinct_trans_group_week  \\\n",
       "rd_id                                                            \n",
       "1570544787                      NaN                        NaN   \n",
       "1689551331                      0.0                        1.0   \n",
       "498001800                       NaN                        NaN   \n",
       "1519332095                      0.0                        1.0   \n",
       "1291881657                      NaN                        NaN   \n",
       "...                             ...                        ...   \n",
       "675691605                       NaN                        NaN   \n",
       "1417761924                      0.0                        1.0   \n",
       "1353717729                      NaN                        NaN   \n",
       "681466176                       NaN                        NaN   \n",
       "169195665                       0.0                        1.0   \n",
       "\n",
       "            distinct_ref_no_week  ...  min_amount_3month  \\\n",
       "rd_id                             ...                      \n",
       "1570544787                   NaN  ...       1.103180e-04   \n",
       "1689551331                  11.0  ...       5.920000e-07   \n",
       "498001800                    NaN  ...       8.870000e-07   \n",
       "1519332095                   1.0  ...       5.920000e-07   \n",
       "1291881657                   NaN  ...       2.957880e-04   \n",
       "...                          ...  ...                ...   \n",
       "675691605                    NaN  ...       3.550000e-05   \n",
       "1417761924                   1.0  ...       2.960000e-06   \n",
       "1353717729                   NaN  ...                NaN   \n",
       "681466176                    NaN  ...       5.320000e-05   \n",
       "169195665                    1.0  ...       2.366304e-03   \n",
       "\n",
       "            distinct_payment_code_3month  count_payment_code_3month  \\\n",
       "rd_id                                                                 \n",
       "1570544787                             0                          0   \n",
       "1689551331                             1                          2   \n",
       "498001800                              1                          2   \n",
       "1519332095                             1                          6   \n",
       "1291881657                             0                          0   \n",
       "...                                  ...                        ...   \n",
       "675691605                              0                          0   \n",
       "1417761924                             0                          0   \n",
       "1353717729                             0                          0   \n",
       "681466176                              0                          0   \n",
       "169195665                              0                          0   \n",
       "\n",
       "            distinct_trans_group_3month  distinct_ref_no_3month  \\\n",
       "rd_id                                                             \n",
       "1570544787                            2                       5   \n",
       "1689551331                            3                     141   \n",
       "498001800                             3                      32   \n",
       "1519332095                            3                      20   \n",
       "1291881657                            2                       3   \n",
       "...                                 ...                     ...   \n",
       "675691605                             1                       6   \n",
       "1417761924                            3                      12   \n",
       "1353717729                            1                       2   \n",
       "681466176                             1                       2   \n",
       "169195665                             1                       1   \n",
       "\n",
       "            most_act_mar2021_count         most_act_mar2021  \\\n",
       "rd_id                                                         \n",
       "1570544787                     NaN                      NaN   \n",
       "1689551331                    69.0   Giao dich chuyen khoan   \n",
       "498001800                     14.0   Giao dich chuyen khoan   \n",
       "1519332095                     3.0   Giao dich chuyen khoan   \n",
       "1291881657                     1.0  GIAO DICH PHI TAI CHINH   \n",
       "...                            ...                      ...   \n",
       "675691605                     13.0   Giao dich chuyen khoan   \n",
       "1417761924                     8.0   Giao dich chuyen khoan   \n",
       "1353717729                    13.0   Giao dich chuyen khoan   \n",
       "681466176                      1.0     Giao dich thanh toan   \n",
       "169195665                      NaN                      NaN   \n",
       "\n",
       "            total_act_mar2021  total_amt_mar2021  nhomno_xhtdJuin2021  \n",
       "rd_id                                                                  \n",
       "1570544787                NaN                NaN                  1.0  \n",
       "1689551331               71.0           0.001015                  1.0  \n",
       "498001800                21.0           0.000020                  1.0  \n",
       "1519332095                4.0           0.000012                  1.0  \n",
       "1291881657                2.0           0.000322                  1.0  \n",
       "...                       ...                ...                  ...  \n",
       "675691605                14.0           0.000122                  1.0  \n",
       "1417761924               15.0           0.000063                  1.0  \n",
       "1353717729               14.0           0.000398                  1.0  \n",
       "681466176                 1.0           0.000005                  1.0  \n",
       "169195665                 NaN                NaN                  1.0  \n",
       "\n",
       "[29956 rows x 29 columns]"
      ]
     },
     "execution_count": 6,
     "metadata": {},
     "output_type": "execute_result"
    }
   ],
   "source": [
    "df.rename(columns = lambda x: x.strip(), inplace = True)\n",
    "df.rename(columns = {\"local_ref_1\": 'gender', \"vn_marital_status\": 'marital_status'}, inplace = True)\n",
    "df"
   ]
  },
  {
   "cell_type": "markdown",
   "id": "baf04dd7",
   "metadata": {},
   "source": [
    "----"
   ]
  },
  {
   "cell_type": "markdown",
   "id": "ca49c13d",
   "metadata": {},
   "source": [
    "## 1. Exploratory Data Analysis\n",
    "\n",
    "Let's begin some exploratory data analysis! We'll start by checking out missing data!\n",
    "\n",
    "### 1.1. Detecting Missing Data"
   ]
  },
  {
   "cell_type": "code",
   "execution_count": 23,
   "id": "48698a98",
   "metadata": {},
   "outputs": [
    {
     "data": {
      "text/plain": [
       "Text(0.925, 0.5, 'Yellow represents missing values.\\n\\nPurple represents existing values.')"
      ]
     },
     "execution_count": 23,
     "metadata": {},
     "output_type": "execute_result"
    },
    {
     "data": {
      "image/png": "[encoded data removed]",
      "text/plain": [
       "<Figure size 720x720 with 1 Axes>"
      ]
     },
     "metadata": {
      "needs_background": "light"
     },
     "output_type": "display_data"
    }
   ],
   "source": [
    "fig, ax = plt.subplots(figsize=(10,10)) \n",
    "sns.heatmap(df.isnull(),yticklabels=False,cbar=False,cmap='viridis', ax = ax)\n",
    "\n",
    "plt.gcf().text(0.925, 0.5, 'Yellow represents missing values.\\n\\nPurple represents existing values.', fontsize=14)"
   ]
  },
  {
   "cell_type": "code",
   "execution_count": 24,
   "id": "7c7a9603",
   "metadata": {},
   "outputs": [
    {
     "name": "stdout",
     "output_type": "stream",
     "text": [
      "0. \"gender\": 3.29% missing values\n",
      "1. \"marital_status\": 3.59% missing values\n",
      "2. \"age\": 0.00% missing values\n",
      "3. \"amount_week\": 35.82% missing values\n",
      "4. \"max_amount_week\": 35.82% missing values\n",
      "5. \"min_amount_week\": 35.82% missing values\n",
      "6. \"distinct_payment_code_week\": 34.57% missing values\n",
      "7. \"count_payment_code_week\": 34.57% missing values\n",
      "8. \"distinct_trans_group_week\": 34.57% missing values\n",
      "9. \"distinct_ref_no_week\": 34.57% missing values\n",
      "10. \"amount_month\": 13.72% missing values\n",
      "11. \"max_amount_month\": 13.72% missing values\n",
      "12. \"min_amount_month\": 13.72% missing values\n",
      "13. \"distinct_payment_code_month\": 11.58% missing values\n",
      "14. \"count_payment_code_month\": 11.58% missing values\n",
      "15. \"distinct_trans_group_month\": 11.58% missing values\n",
      "16. \"distinct_ref_no_month\": 11.58% missing values\n",
      "17. \"amount_3month\": 3.49% missing values\n",
      "18. \"max_amount_3month\": 3.49% missing values\n",
      "19. \"min_amount_3month\": 3.49% missing values\n",
      "20. \"distinct_payment_code_3month\": 0.00% missing values\n",
      "21. \"count_payment_code_3month\": 0.00% missing values\n",
      "22. \"distinct_trans_group_3month\": 0.00% missing values\n",
      "23. \"distinct_ref_no_3month\": 0.00% missing values\n",
      "24. \"most_act_mar2021_count\": 19.28% missing values\n",
      "25. \"most_act_mar2021\": 19.28% missing values\n",
      "26. \"total_act_mar2021\": 19.28% missing values\n",
      "27. \"total_amt_mar2021\": 19.94% missing values\n",
      "28. \"nhomno_xhtdJuin2021\": 0.00% missing values\n"
     ]
    }
   ],
   "source": [
    "missing_data = df.isnull()\n",
    "\n",
    "i = 0\n",
    "for column in missing_data.columns.values.tolist():\n",
    "    print('{}. \"{}\": {:.2%} missing values'.format(i, column, (len(df) - missing_data[column].value_counts()[False])/len(df)))\n",
    "    i += 1"
   ]
  },
  {
   "cell_type": "markdown",
   "id": "a07f6387",
   "metadata": {},
   "source": [
    "### 1.2. Remove outliers and filling missing values"
   ]
  },
  {
   "cell_type": "markdown",
   "id": "bfa61956",
   "metadata": {},
   "source": [
    "#### 1.2.1. 'age' column"
   ]
  },
  {
   "cell_type": "markdown",
   "id": "84984645",
   "metadata": {},
   "source": [
    "Người cao tuổi nhất tính đến năm 2020 là 117 tuổi <br>\n",
    "--> Loại bỏ các outliers của cột age (< 117 tuổi)"
   ]
  },
  {
   "cell_type": "code",
   "execution_count": 25,
   "id": "c5a9214b",
   "metadata": {},
   "outputs": [
    {
     "data": {
      "text/plain": [
       "<AxesSubplot:ylabel='age'>"
      ]
     },
     "execution_count": 25,
     "metadata": {},
     "output_type": "execute_result"
    },
    {
     "data": {
      "image/png": "[encoded data removed]",
      "text/plain": [
       "<Figure size 432x288 with 1 Axes>"
      ]
     },
     "metadata": {
      "needs_background": "light"
     },
     "output_type": "display_data"
    }
   ],
   "source": [
    "sns.boxplot(y = 'age', data = df)"
   ]
  },
  {
   "cell_type": "markdown",
   "id": "a765884b",
   "metadata": {},
   "source": [
    "Người cao tuổi nhất tính đến năm 2020 là 117 tuổi <br>\n",
    "--> Loại bỏ các outliers của cột age (< 117 tuổi)"
   ]
  },
  {
   "cell_type": "code",
   "execution_count": 26,
   "id": "4a51362a",
   "metadata": {},
   "outputs": [
    {
     "name": "stderr",
     "output_type": "stream",
     "text": [
      "C:\\ProgramData\\Anaconda3\\lib\\site-packages\\seaborn\\distributions.py:2619: FutureWarning: `distplot` is a deprecated function and will be removed in a future version. Please adapt your code to use either `displot` (a figure-level function with similar flexibility) or `kdeplot` (an axes-level function for kernel density plots).\n",
      "  warnings.warn(msg, FutureWarning)\n"
     ]
    },
    {
     "data": {
      "text/plain": [
       "<AxesSubplot:xlabel='age', ylabel='Density'>"
      ]
     },
     "execution_count": 26,
     "metadata": {},
     "output_type": "execute_result"
    },
    {
     "data": {
      "image/png": "[encoded data removed]",
      "text/plain": [
       "<Figure size 432x288 with 1 Axes>"
      ]
     },
     "metadata": {
      "needs_background": "light"
     },
     "output_type": "display_data"
    }
   ],
   "source": [
    "sns.distplot(df.age[df.age < 117], hist = False)"
   ]
  },
  {
   "cell_type": "markdown",
   "id": "fa3acf47",
   "metadata": {},
   "source": [
    "Vì data is not symmetrically distributed, thay thế các missing values ở cột 'age' bằng **median** thay vì mean"
   ]
  },
  {
   "cell_type": "code",
   "execution_count": 7,
   "id": "480053db",
   "metadata": {},
   "outputs": [],
   "source": [
    "df.age = df.age.fillna(df.age.median())"
   ]
  },
  {
   "cell_type": "markdown",
   "id": "43b1e91d",
   "metadata": {},
   "source": [
    "#### 1.2.2. 'gender' column"
   ]
  },
  {
   "cell_type": "code",
   "execution_count": 8,
   "id": "c4de3c39",
   "metadata": {},
   "outputs": [
    {
     "data": {
      "text/plain": [
       "False    28969\n",
       "True       987\n",
       "Name: gender, dtype: int64"
      ]
     },
     "execution_count": 8,
     "metadata": {},
     "output_type": "execute_result"
    }
   ],
   "source": [
    "df.gender.isnull().value_counts()"
   ]
  },
  {
   "cell_type": "code",
   "execution_count": 29,
   "id": "83928b57",
   "metadata": {},
   "outputs": [
    {
     "data": {
      "text/plain": [
       "MALE      20620\n",
       "FEMALE     8349\n",
       "Name: gender, dtype: int64"
      ]
     },
     "execution_count": 29,
     "metadata": {},
     "output_type": "execute_result"
    }
   ],
   "source": [
    "df.gender.value_counts()"
   ]
  },
  {
   "cell_type": "markdown",
   "id": "89e1e1ed",
   "metadata": {},
   "source": [
    "Có 987 người chưa có thông tin về giới tính, đa số các khách hàng là nam (chiếm 71%). <br> \n",
    "--> Thay thế 987 người này bằng \"MALE\""
   ]
  },
  {
   "cell_type": "code",
   "execution_count": 9,
   "id": "6b8cdc2b",
   "metadata": {},
   "outputs": [],
   "source": [
    "df.gender = df.gender.fillna('MALE')"
   ]
  },
  {
   "cell_type": "markdown",
   "id": "dcdca564",
   "metadata": {},
   "source": [
    "#### 1.2.3. 'marital_status' column"
   ]
  },
  {
   "cell_type": "code",
   "execution_count": 31,
   "id": "7cc6fa33",
   "metadata": {},
   "outputs": [
    {
     "data": {
      "text/plain": [
       "False    28882\n",
       "True      1074\n",
       "Name: marital_status, dtype: int64"
      ]
     },
     "execution_count": 31,
     "metadata": {},
     "output_type": "execute_result"
    }
   ],
   "source": [
    "df.marital_status.isnull().value_counts()"
   ]
  },
  {
   "cell_type": "code",
   "execution_count": 32,
   "id": "d6f980ab",
   "metadata": {},
   "outputs": [
    {
     "data": {
      "text/plain": [
       "Married      17900\n",
       "Single       10809\n",
       "Other          125\n",
       "Divorced        24\n",
       "Partner         17\n",
       "Widow            6\n",
       "Seperated        1\n",
       "Name: marital_status, dtype: int64"
      ]
     },
     "execution_count": 32,
     "metadata": {},
     "output_type": "execute_result"
    }
   ],
   "source": [
    "df.marital_status.value_counts()"
   ]
  },
  {
   "cell_type": "markdown",
   "id": "5d6aa6a3",
   "metadata": {},
   "source": [
    "Có 1074 người chưa có thông tin về tình trạng hôn nhân, đa số các khách hàng đã kết hôn (chiếm 62%). <br> \n",
    "--> Thay thế tình trạng hôn nhân 1074 người này bằng \"Married\""
   ]
  },
  {
   "cell_type": "code",
   "execution_count": 10,
   "id": "d9d6ba13",
   "metadata": {},
   "outputs": [],
   "source": [
    "df.marital_status = df.marital_status.fillna('Married')"
   ]
  },
  {
   "cell_type": "markdown",
   "id": "0953fd74",
   "metadata": {},
   "source": [
    "#### 1.2.4. Những cột có dữ liệu null khác"
   ]
  },
  {
   "cell_type": "markdown",
   "id": "895e8e72",
   "metadata": {},
   "source": [
    "Điền vào toàn bộ những cột còn lại giá trị 0 thay cho np.nan, coi những khách hàng không giao dịch hay không sử dụng dịch vụ sẽ coi số lượng bằng 0."
   ]
  },
  {
   "cell_type": "code",
   "execution_count": 11,
   "id": "5b5a782c",
   "metadata": {},
   "outputs": [],
   "source": [
    "df = df.replace(np.nan, 0)"
   ]
  },
  {
   "cell_type": "markdown",
   "id": "d376f0c8",
   "metadata": {},
   "source": [
    "**Cuối cùng, dữ liệu sau khi làm sạch:**"
   ]
  },
  {
   "cell_type": "code",
   "execution_count": 35,
   "id": "022b4b81",
   "metadata": {},
   "outputs": [
    {
     "data": {
      "text/plain": [
       "Text(0.925, 0.5, 'Yellow represents missing values.\\n\\nPurple represents existing values.')"
      ]
     },
     "execution_count": 35,
     "metadata": {},
     "output_type": "execute_result"
    },
    {
     "data": {
      "image/png": "[encoded data removed]",
      "text/plain": [
       "<Figure size 720x720 with 1 Axes>"
      ]
     },
     "metadata": {
      "needs_background": "light"
     },
     "output_type": "display_data"
    }
   ],
   "source": [
    "fig, ax = plt.subplots(figsize=(10,10)) \n",
    "sns.heatmap(df.isnull(),yticklabels=False,cbar=False,cmap='viridis', ax = ax)\n",
    "\n",
    "plt.gcf().text(0.925, 0.5, 'Yellow represents missing values.\\n\\nPurple represents existing values.', fontsize=14)"
   ]
  },
  {
   "cell_type": "markdown",
   "id": "890bbcfc",
   "metadata": {},
   "source": [
    "#### 1.2.5. Correct data types"
   ]
  },
  {
   "cell_type": "code",
   "execution_count": 12,
   "id": "f10e1a68",
   "metadata": {},
   "outputs": [
    {
     "data": {
      "text/plain": [
       "gender                          category\n",
       "marital_status                  category\n",
       "age                                int64\n",
       "amount_week                      float64\n",
       "max_amount_week                  float64\n",
       "min_amount_week                  float64\n",
       "distinct_payment_code_week         int64\n",
       "count_payment_code_week            int64\n",
       "distinct_trans_group_week          int64\n",
       "distinct_ref_no_week               int64\n",
       "amount_month                     float64\n",
       "max_amount_month                 float64\n",
       "min_amount_month                 float64\n",
       "distinct_payment_code_month        int64\n",
       "count_payment_code_month           int64\n",
       "distinct_trans_group_month         int64\n",
       "distinct_ref_no_month              int64\n",
       "amount_3month                    float64\n",
       "max_amount_3month                float64\n",
       "min_amount_3month                float64\n",
       "distinct_payment_code_3month       int64\n",
       "count_payment_code_3month          int64\n",
       "distinct_trans_group_3month        int64\n",
       "distinct_ref_no_3month             int64\n",
       "most_act_mar2021_count             int64\n",
       "most_act_mar2021                  object\n",
       "total_act_mar2021                  int64\n",
       "total_amt_mar2021                float64\n",
       "nhomno_xhtdJuin2021                int64\n",
       "dtype: object"
      ]
     },
     "execution_count": 12,
     "metadata": {},
     "output_type": "execute_result"
    }
   ],
   "source": [
    "def category(*argv):\n",
    "    for arg in argv:\n",
    "        df[arg] = df[arg].astype('category')\n",
    "\n",
    "category(\"gender\", \"marital_status\")\n",
    "        \n",
    "def int64type(*argv):\n",
    "    for arg in argv:\n",
    "        df[arg] = df[arg].astype('int64')\n",
    "\n",
    "int64type(\"distinct_payment_code_week\", \"count_payment_code_week\", \"distinct_trans_group_week\", \"distinct_ref_no_week\")\n",
    "int64type('distinct_payment_code_month', 'count_payment_code_month', 'distinct_trans_group_month', 'distinct_ref_no_month')\n",
    "int64type('distinct_payment_code_3month', 'count_payment_code_3month', 'distinct_trans_group_3month', 'distinct_ref_no_3month')\n",
    "int64type('most_act_mar2021_count', 'total_act_mar2021', 'age')\n",
    "int64type('nhomno_xhtdJuin2021')\n",
    "\n",
    "def floattype(*argv):\n",
    "    for arg in argv:\n",
    "        df[arg] = df[arg].astype('float')\n",
    "\n",
    "floattype(\"amount_week\", \"max_amount_week\", \"min_amount_week\", 'amount_month', 'max_amount_month', 'min_amount_month')\n",
    "floattype('amount_3month', 'max_amount_3month','min_amount_3month', 'total_amt_mar2021')\n",
    "\n",
    "df.dtypes"
   ]
  },
  {
   "cell_type": "code",
   "execution_count": 37,
   "id": "a6011a8e",
   "metadata": {
    "scrolled": true
   },
   "outputs": [
    {
     "data": {
      "text/plain": [
       "1    15831\n",
       "2     8465\n",
       "3     2678\n",
       "4     2380\n",
       "5      602\n",
       "Name: nhomno_xhtdJuin2021, dtype: int64"
      ]
     },
     "execution_count": 37,
     "metadata": {},
     "output_type": "execute_result"
    }
   ],
   "source": [
    "df.nhomno_xhtdJuin2021.value_counts()"
   ]
  },
  {
   "cell_type": "markdown",
   "id": "34097b16",
   "metadata": {},
   "source": [
    "### 1.3. Normalization"
   ]
  },
  {
   "cell_type": "code",
   "execution_count": 13,
   "id": "23e05d84",
   "metadata": {},
   "outputs": [],
   "source": [
    "def normalize(*cols):\n",
    "    for col in cols:\n",
    "        df[col] = df[col] / df[col].max()\n",
    "\n",
    "normalize('amount_week', 'max_amount_week', 'min_amount_week', 'amount_month', 'max_amount_month', 'min_amount_month')\n",
    "normalize('amount_3month', 'max_amount_3month', 'min_amount_3month', 'total_amt_mar2021')"
   ]
  },
  {
   "cell_type": "code",
   "execution_count": 14,
   "id": "41a828c7",
   "metadata": {},
   "outputs": [
    {
     "data": {
      "text/html": [
       "<div>\n",
       "<style scoped>\n",
       "    .dataframe tbody tr th:only-of-type {\n",
       "        vertical-align: middle;\n",
       "    }\n",
       "\n",
       "    .dataframe tbody tr th {\n",
       "        vertical-align: top;\n",
       "    }\n",
       "\n",
       "    .dataframe thead th {\n",
       "        text-align: right;\n",
       "    }\n",
       "</style>\n",
       "<table border=\"1\" class=\"dataframe\">\n",
       "  <thead>\n",
       "    <tr style=\"text-align: right;\">\n",
       "      <th></th>\n",
       "      <th>gender</th>\n",
       "      <th>marital_status</th>\n",
       "      <th>age</th>\n",
       "      <th>amount_week</th>\n",
       "      <th>max_amount_week</th>\n",
       "      <th>min_amount_week</th>\n",
       "      <th>distinct_payment_code_week</th>\n",
       "      <th>count_payment_code_week</th>\n",
       "      <th>distinct_trans_group_week</th>\n",
       "      <th>distinct_ref_no_week</th>\n",
       "      <th>...</th>\n",
       "      <th>min_amount_3month</th>\n",
       "      <th>distinct_payment_code_3month</th>\n",
       "      <th>count_payment_code_3month</th>\n",
       "      <th>distinct_trans_group_3month</th>\n",
       "      <th>distinct_ref_no_3month</th>\n",
       "      <th>most_act_mar2021_count</th>\n",
       "      <th>most_act_mar2021</th>\n",
       "      <th>total_act_mar2021</th>\n",
       "      <th>total_amt_mar2021</th>\n",
       "      <th>nhomno_xhtdJuin2021</th>\n",
       "    </tr>\n",
       "    <tr>\n",
       "      <th>rd_id</th>\n",
       "      <th></th>\n",
       "      <th></th>\n",
       "      <th></th>\n",
       "      <th></th>\n",
       "      <th></th>\n",
       "      <th></th>\n",
       "      <th></th>\n",
       "      <th></th>\n",
       "      <th></th>\n",
       "      <th></th>\n",
       "      <th></th>\n",
       "      <th></th>\n",
       "      <th></th>\n",
       "      <th></th>\n",
       "      <th></th>\n",
       "      <th></th>\n",
       "      <th></th>\n",
       "      <th></th>\n",
       "      <th></th>\n",
       "      <th></th>\n",
       "      <th></th>\n",
       "    </tr>\n",
       "  </thead>\n",
       "  <tbody>\n",
       "    <tr>\n",
       "      <th>1570544787</th>\n",
       "      <td>MALE</td>\n",
       "      <td>Single</td>\n",
       "      <td>34</td>\n",
       "      <td>0.0</td>\n",
       "      <td>0.00000</td>\n",
       "      <td>0.000000</td>\n",
       "      <td>0</td>\n",
       "      <td>0</td>\n",
       "      <td>0</td>\n",
       "      <td>0</td>\n",
       "      <td>...</td>\n",
       "      <td>0.000617</td>\n",
       "      <td>0</td>\n",
       "      <td>0</td>\n",
       "      <td>2</td>\n",
       "      <td>5</td>\n",
       "      <td>0</td>\n",
       "      <td>0</td>\n",
       "      <td>0</td>\n",
       "      <td>0.000000</td>\n",
       "      <td>1</td>\n",
       "    </tr>\n",
       "    <tr>\n",
       "      <th>1689551331</th>\n",
       "      <td>MALE</td>\n",
       "      <td>Married</td>\n",
       "      <td>28</td>\n",
       "      <td>0.0</td>\n",
       "      <td>0.00233</td>\n",
       "      <td>0.000090</td>\n",
       "      <td>0</td>\n",
       "      <td>0</td>\n",
       "      <td>1</td>\n",
       "      <td>11</td>\n",
       "      <td>...</td>\n",
       "      <td>0.000003</td>\n",
       "      <td>1</td>\n",
       "      <td>2</td>\n",
       "      <td>3</td>\n",
       "      <td>141</td>\n",
       "      <td>69</td>\n",
       "      <td>Giao dich chuyen khoan</td>\n",
       "      <td>71</td>\n",
       "      <td>0.001015</td>\n",
       "      <td>1</td>\n",
       "    </tr>\n",
       "    <tr>\n",
       "      <th>498001800</th>\n",
       "      <td>MALE</td>\n",
       "      <td>Married</td>\n",
       "      <td>33</td>\n",
       "      <td>0.0</td>\n",
       "      <td>0.00000</td>\n",
       "      <td>0.000000</td>\n",
       "      <td>0</td>\n",
       "      <td>0</td>\n",
       "      <td>0</td>\n",
       "      <td>0</td>\n",
       "      <td>...</td>\n",
       "      <td>0.000005</td>\n",
       "      <td>1</td>\n",
       "      <td>2</td>\n",
       "      <td>3</td>\n",
       "      <td>32</td>\n",
       "      <td>14</td>\n",
       "      <td>Giao dich chuyen khoan</td>\n",
       "      <td>21</td>\n",
       "      <td>0.000020</td>\n",
       "      <td>1</td>\n",
       "    </tr>\n",
       "    <tr>\n",
       "      <th>1519332095</th>\n",
       "      <td>MALE</td>\n",
       "      <td>Single</td>\n",
       "      <td>24</td>\n",
       "      <td>0.0</td>\n",
       "      <td>0.00007</td>\n",
       "      <td>0.000627</td>\n",
       "      <td>0</td>\n",
       "      <td>0</td>\n",
       "      <td>1</td>\n",
       "      <td>1</td>\n",
       "      <td>...</td>\n",
       "      <td>0.000003</td>\n",
       "      <td>1</td>\n",
       "      <td>6</td>\n",
       "      <td>3</td>\n",
       "      <td>20</td>\n",
       "      <td>3</td>\n",
       "      <td>Giao dich chuyen khoan</td>\n",
       "      <td>4</td>\n",
       "      <td>0.000012</td>\n",
       "      <td>1</td>\n",
       "    </tr>\n",
       "    <tr>\n",
       "      <th>1291881657</th>\n",
       "      <td>MALE</td>\n",
       "      <td>Married</td>\n",
       "      <td>47</td>\n",
       "      <td>0.0</td>\n",
       "      <td>0.00000</td>\n",
       "      <td>0.000000</td>\n",
       "      <td>0</td>\n",
       "      <td>0</td>\n",
       "      <td>0</td>\n",
       "      <td>0</td>\n",
       "      <td>...</td>\n",
       "      <td>0.001655</td>\n",
       "      <td>0</td>\n",
       "      <td>0</td>\n",
       "      <td>2</td>\n",
       "      <td>3</td>\n",
       "      <td>1</td>\n",
       "      <td>GIAO DICH PHI TAI CHINH</td>\n",
       "      <td>2</td>\n",
       "      <td>0.000322</td>\n",
       "      <td>1</td>\n",
       "    </tr>\n",
       "    <tr>\n",
       "      <th>...</th>\n",
       "      <td>...</td>\n",
       "      <td>...</td>\n",
       "      <td>...</td>\n",
       "      <td>...</td>\n",
       "      <td>...</td>\n",
       "      <td>...</td>\n",
       "      <td>...</td>\n",
       "      <td>...</td>\n",
       "      <td>...</td>\n",
       "      <td>...</td>\n",
       "      <td>...</td>\n",
       "      <td>...</td>\n",
       "      <td>...</td>\n",
       "      <td>...</td>\n",
       "      <td>...</td>\n",
       "      <td>...</td>\n",
       "      <td>...</td>\n",
       "      <td>...</td>\n",
       "      <td>...</td>\n",
       "      <td>...</td>\n",
       "      <td>...</td>\n",
       "    </tr>\n",
       "    <tr>\n",
       "      <th>675691605</th>\n",
       "      <td>MALE</td>\n",
       "      <td>Single</td>\n",
       "      <td>32</td>\n",
       "      <td>0.0</td>\n",
       "      <td>0.00000</td>\n",
       "      <td>0.000000</td>\n",
       "      <td>0</td>\n",
       "      <td>0</td>\n",
       "      <td>0</td>\n",
       "      <td>0</td>\n",
       "      <td>...</td>\n",
       "      <td>0.000199</td>\n",
       "      <td>0</td>\n",
       "      <td>0</td>\n",
       "      <td>1</td>\n",
       "      <td>6</td>\n",
       "      <td>13</td>\n",
       "      <td>Giao dich chuyen khoan</td>\n",
       "      <td>14</td>\n",
       "      <td>0.000122</td>\n",
       "      <td>1</td>\n",
       "    </tr>\n",
       "    <tr>\n",
       "      <th>1417761924</th>\n",
       "      <td>FEMALE</td>\n",
       "      <td>Married</td>\n",
       "      <td>28</td>\n",
       "      <td>0.0</td>\n",
       "      <td>0.00000</td>\n",
       "      <td>0.000000</td>\n",
       "      <td>0</td>\n",
       "      <td>0</td>\n",
       "      <td>1</td>\n",
       "      <td>1</td>\n",
       "      <td>...</td>\n",
       "      <td>0.000017</td>\n",
       "      <td>0</td>\n",
       "      <td>0</td>\n",
       "      <td>3</td>\n",
       "      <td>12</td>\n",
       "      <td>8</td>\n",
       "      <td>Giao dich chuyen khoan</td>\n",
       "      <td>15</td>\n",
       "      <td>0.000063</td>\n",
       "      <td>1</td>\n",
       "    </tr>\n",
       "    <tr>\n",
       "      <th>1353717729</th>\n",
       "      <td>MALE</td>\n",
       "      <td>Single</td>\n",
       "      <td>29</td>\n",
       "      <td>0.0</td>\n",
       "      <td>0.00000</td>\n",
       "      <td>0.000000</td>\n",
       "      <td>0</td>\n",
       "      <td>0</td>\n",
       "      <td>0</td>\n",
       "      <td>0</td>\n",
       "      <td>...</td>\n",
       "      <td>0.000000</td>\n",
       "      <td>0</td>\n",
       "      <td>0</td>\n",
       "      <td>1</td>\n",
       "      <td>2</td>\n",
       "      <td>13</td>\n",
       "      <td>Giao dich chuyen khoan</td>\n",
       "      <td>14</td>\n",
       "      <td>0.000398</td>\n",
       "      <td>1</td>\n",
       "    </tr>\n",
       "    <tr>\n",
       "      <th>681466176</th>\n",
       "      <td>FEMALE</td>\n",
       "      <td>Married</td>\n",
       "      <td>35</td>\n",
       "      <td>0.0</td>\n",
       "      <td>0.00000</td>\n",
       "      <td>0.000000</td>\n",
       "      <td>0</td>\n",
       "      <td>0</td>\n",
       "      <td>0</td>\n",
       "      <td>0</td>\n",
       "      <td>...</td>\n",
       "      <td>0.000298</td>\n",
       "      <td>0</td>\n",
       "      <td>0</td>\n",
       "      <td>1</td>\n",
       "      <td>2</td>\n",
       "      <td>1</td>\n",
       "      <td>Giao dich thanh toan</td>\n",
       "      <td>1</td>\n",
       "      <td>0.000005</td>\n",
       "      <td>1</td>\n",
       "    </tr>\n",
       "    <tr>\n",
       "      <th>169195665</th>\n",
       "      <td>MALE</td>\n",
       "      <td>Married</td>\n",
       "      <td>31</td>\n",
       "      <td>0.0</td>\n",
       "      <td>0.00800</td>\n",
       "      <td>0.071685</td>\n",
       "      <td>0</td>\n",
       "      <td>0</td>\n",
       "      <td>1</td>\n",
       "      <td>1</td>\n",
       "      <td>...</td>\n",
       "      <td>0.013240</td>\n",
       "      <td>0</td>\n",
       "      <td>0</td>\n",
       "      <td>1</td>\n",
       "      <td>1</td>\n",
       "      <td>0</td>\n",
       "      <td>0</td>\n",
       "      <td>0</td>\n",
       "      <td>0.000000</td>\n",
       "      <td>1</td>\n",
       "    </tr>\n",
       "  </tbody>\n",
       "</table>\n",
       "<p>29956 rows × 29 columns</p>\n",
       "</div>"
      ],
      "text/plain": [
       "            gender marital_status  age  amount_week  max_amount_week  \\\n",
       "rd_id                                                                  \n",
       "1570544787    MALE         Single   34          0.0          0.00000   \n",
       "1689551331    MALE        Married   28          0.0          0.00233   \n",
       "498001800     MALE        Married   33          0.0          0.00000   \n",
       "1519332095    MALE         Single   24          0.0          0.00007   \n",
       "1291881657    MALE        Married   47          0.0          0.00000   \n",
       "...            ...            ...  ...          ...              ...   \n",
       "675691605     MALE         Single   32          0.0          0.00000   \n",
       "1417761924  FEMALE        Married   28          0.0          0.00000   \n",
       "1353717729    MALE         Single   29          0.0          0.00000   \n",
       "681466176   FEMALE        Married   35          0.0          0.00000   \n",
       "169195665     MALE        Married   31          0.0          0.00800   \n",
       "\n",
       "            min_amount_week  distinct_payment_code_week  \\\n",
       "rd_id                                                     \n",
       "1570544787         0.000000                           0   \n",
       "1689551331         0.000090                           0   \n",
       "498001800          0.000000                           0   \n",
       "1519332095         0.000627                           0   \n",
       "1291881657         0.000000                           0   \n",
       "...                     ...                         ...   \n",
       "675691605          0.000000                           0   \n",
       "1417761924         0.000000                           0   \n",
       "1353717729         0.000000                           0   \n",
       "681466176          0.000000                           0   \n",
       "169195665          0.071685                           0   \n",
       "\n",
       "            count_payment_code_week  distinct_trans_group_week  \\\n",
       "rd_id                                                            \n",
       "1570544787                        0                          0   \n",
       "1689551331                        0                          1   \n",
       "498001800                         0                          0   \n",
       "1519332095                        0                          1   \n",
       "1291881657                        0                          0   \n",
       "...                             ...                        ...   \n",
       "675691605                         0                          0   \n",
       "1417761924                        0                          1   \n",
       "1353717729                        0                          0   \n",
       "681466176                         0                          0   \n",
       "169195665                         0                          1   \n",
       "\n",
       "            distinct_ref_no_week  ...  min_amount_3month  \\\n",
       "rd_id                             ...                      \n",
       "1570544787                     0  ...           0.000617   \n",
       "1689551331                    11  ...           0.000003   \n",
       "498001800                      0  ...           0.000005   \n",
       "1519332095                     1  ...           0.000003   \n",
       "1291881657                     0  ...           0.001655   \n",
       "...                          ...  ...                ...   \n",
       "675691605                      0  ...           0.000199   \n",
       "1417761924                     1  ...           0.000017   \n",
       "1353717729                     0  ...           0.000000   \n",
       "681466176                      0  ...           0.000298   \n",
       "169195665                      1  ...           0.013240   \n",
       "\n",
       "            distinct_payment_code_3month  count_payment_code_3month  \\\n",
       "rd_id                                                                 \n",
       "1570544787                             0                          0   \n",
       "1689551331                             1                          2   \n",
       "498001800                              1                          2   \n",
       "1519332095                             1                          6   \n",
       "1291881657                             0                          0   \n",
       "...                                  ...                        ...   \n",
       "675691605                              0                          0   \n",
       "1417761924                             0                          0   \n",
       "1353717729                             0                          0   \n",
       "681466176                              0                          0   \n",
       "169195665                              0                          0   \n",
       "\n",
       "            distinct_trans_group_3month  distinct_ref_no_3month  \\\n",
       "rd_id                                                             \n",
       "1570544787                            2                       5   \n",
       "1689551331                            3                     141   \n",
       "498001800                             3                      32   \n",
       "1519332095                            3                      20   \n",
       "1291881657                            2                       3   \n",
       "...                                 ...                     ...   \n",
       "675691605                             1                       6   \n",
       "1417761924                            3                      12   \n",
       "1353717729                            1                       2   \n",
       "681466176                             1                       2   \n",
       "169195665                             1                       1   \n",
       "\n",
       "            most_act_mar2021_count         most_act_mar2021  \\\n",
       "rd_id                                                         \n",
       "1570544787                       0                        0   \n",
       "1689551331                      69   Giao dich chuyen khoan   \n",
       "498001800                       14   Giao dich chuyen khoan   \n",
       "1519332095                       3   Giao dich chuyen khoan   \n",
       "1291881657                       1  GIAO DICH PHI TAI CHINH   \n",
       "...                            ...                      ...   \n",
       "675691605                       13   Giao dich chuyen khoan   \n",
       "1417761924                       8   Giao dich chuyen khoan   \n",
       "1353717729                      13   Giao dich chuyen khoan   \n",
       "681466176                        1     Giao dich thanh toan   \n",
       "169195665                        0                        0   \n",
       "\n",
       "            total_act_mar2021  total_amt_mar2021  nhomno_xhtdJuin2021  \n",
       "rd_id                                                                  \n",
       "1570544787                  0           0.000000                    1  \n",
       "1689551331                 71           0.001015                    1  \n",
       "498001800                  21           0.000020                    1  \n",
       "1519332095                  4           0.000012                    1  \n",
       "1291881657                  2           0.000322                    1  \n",
       "...                       ...                ...                  ...  \n",
       "675691605                  14           0.000122                    1  \n",
       "1417761924                 15           0.000063                    1  \n",
       "1353717729                 14           0.000398                    1  \n",
       "681466176                   1           0.000005                    1  \n",
       "169195665                   0           0.000000                    1  \n",
       "\n",
       "[29956 rows x 29 columns]"
      ]
     },
     "execution_count": 14,
     "metadata": {},
     "output_type": "execute_result"
    }
   ],
   "source": [
    "df"
   ]
  },
  {
   "cell_type": "markdown",
   "id": "7340c3e8",
   "metadata": {},
   "source": [
    "----"
   ]
  },
  {
   "cell_type": "markdown",
   "id": "ddd98655",
   "metadata": {},
   "source": [
    "### 2. Analysis"
   ]
  },
  {
   "cell_type": "markdown",
   "id": "564bf172",
   "metadata": {},
   "source": [
    "Trước hết, chọn ra các cột để sử dụng cho việc huấn luyện mô hình (hết năm 2020) để dự đoán nhóm nợ vào tháng 6 năm 2021. <br>\n",
    "*(không xét đến dữ liệu tháng 3)*"
   ]
  },
  {
   "cell_type": "markdown",
   "id": "4beee68c",
   "metadata": {},
   "source": [
    "#### 2.1. Variables"
   ]
  },
  {
   "cell_type": "code",
   "execution_count": 29,
   "id": "ebe91a0e",
   "metadata": {},
   "outputs": [
    {
     "data": {
      "text/html": [
       "<div>\n",
       "<style scoped>\n",
       "    .dataframe tbody tr th:only-of-type {\n",
       "        vertical-align: middle;\n",
       "    }\n",
       "\n",
       "    .dataframe tbody tr th {\n",
       "        vertical-align: top;\n",
       "    }\n",
       "\n",
       "    .dataframe thead th {\n",
       "        text-align: right;\n",
       "    }\n",
       "</style>\n",
       "<table border=\"1\" class=\"dataframe\">\n",
       "  <thead>\n",
       "    <tr style=\"text-align: right;\">\n",
       "      <th></th>\n",
       "      <th>amount_week</th>\n",
       "      <th>max_amount_week</th>\n",
       "      <th>min_amount_week</th>\n",
       "      <th>distinct_payment_code_week</th>\n",
       "      <th>count_payment_code_week</th>\n",
       "      <th>distinct_trans_group_week</th>\n",
       "      <th>distinct_ref_no_week</th>\n",
       "      <th>amount_month</th>\n",
       "      <th>max_amount_month</th>\n",
       "      <th>min_amount_month</th>\n",
       "      <th>...</th>\n",
       "      <th>distinct_trans_group_month</th>\n",
       "      <th>distinct_ref_no_month</th>\n",
       "      <th>amount_3month</th>\n",
       "      <th>max_amount_3month</th>\n",
       "      <th>min_amount_3month</th>\n",
       "      <th>distinct_payment_code_3month</th>\n",
       "      <th>count_payment_code_3month</th>\n",
       "      <th>distinct_trans_group_3month</th>\n",
       "      <th>distinct_ref_no_3month</th>\n",
       "      <th>nhomno_xhtdJuin2021</th>\n",
       "    </tr>\n",
       "    <tr>\n",
       "      <th>rd_id</th>\n",
       "      <th></th>\n",
       "      <th></th>\n",
       "      <th></th>\n",
       "      <th></th>\n",
       "      <th></th>\n",
       "      <th></th>\n",
       "      <th></th>\n",
       "      <th></th>\n",
       "      <th></th>\n",
       "      <th></th>\n",
       "      <th></th>\n",
       "      <th></th>\n",
       "      <th></th>\n",
       "      <th></th>\n",
       "      <th></th>\n",
       "      <th></th>\n",
       "      <th></th>\n",
       "      <th></th>\n",
       "      <th></th>\n",
       "      <th></th>\n",
       "      <th></th>\n",
       "    </tr>\n",
       "  </thead>\n",
       "  <tbody>\n",
       "    <tr>\n",
       "      <th>1570544787</th>\n",
       "      <td>0.0</td>\n",
       "      <td>0.00000</td>\n",
       "      <td>0.000000</td>\n",
       "      <td>0</td>\n",
       "      <td>0</td>\n",
       "      <td>0</td>\n",
       "      <td>0</td>\n",
       "      <td>0.000038</td>\n",
       "      <td>0.000489</td>\n",
       "      <td>0.001134</td>\n",
       "      <td>...</td>\n",
       "      <td>1</td>\n",
       "      <td>1</td>\n",
       "      <td>0.000036</td>\n",
       "      <td>0.000233</td>\n",
       "      <td>0.000617</td>\n",
       "      <td>0</td>\n",
       "      <td>0</td>\n",
       "      <td>2</td>\n",
       "      <td>5</td>\n",
       "      <td>1</td>\n",
       "    </tr>\n",
       "    <tr>\n",
       "      <th>1689551331</th>\n",
       "      <td>0.0</td>\n",
       "      <td>0.00233</td>\n",
       "      <td>0.000090</td>\n",
       "      <td>0</td>\n",
       "      <td>0</td>\n",
       "      <td>1</td>\n",
       "      <td>11</td>\n",
       "      <td>0.000922</td>\n",
       "      <td>0.002000</td>\n",
       "      <td>0.000017</td>\n",
       "      <td>...</td>\n",
       "      <td>1</td>\n",
       "      <td>48</td>\n",
       "      <td>0.000903</td>\n",
       "      <td>0.001021</td>\n",
       "      <td>0.000003</td>\n",
       "      <td>1</td>\n",
       "      <td>2</td>\n",
       "      <td>3</td>\n",
       "      <td>141</td>\n",
       "      <td>1</td>\n",
       "    </tr>\n",
       "    <tr>\n",
       "      <th>498001800</th>\n",
       "      <td>0.0</td>\n",
       "      <td>0.00000</td>\n",
       "      <td>0.000000</td>\n",
       "      <td>0</td>\n",
       "      <td>0</td>\n",
       "      <td>0</td>\n",
       "      <td>0</td>\n",
       "      <td>0.000062</td>\n",
       "      <td>0.000071</td>\n",
       "      <td>0.000017</td>\n",
       "      <td>...</td>\n",
       "      <td>2</td>\n",
       "      <td>23</td>\n",
       "      <td>0.000073</td>\n",
       "      <td>0.000989</td>\n",
       "      <td>0.000005</td>\n",
       "      <td>1</td>\n",
       "      <td>2</td>\n",
       "      <td>3</td>\n",
       "      <td>32</td>\n",
       "      <td>1</td>\n",
       "    </tr>\n",
       "    <tr>\n",
       "      <th>1519332095</th>\n",
       "      <td>0.0</td>\n",
       "      <td>0.00007</td>\n",
       "      <td>0.000627</td>\n",
       "      <td>0</td>\n",
       "      <td>0</td>\n",
       "      <td>1</td>\n",
       "      <td>1</td>\n",
       "      <td>0.000021</td>\n",
       "      <td>0.000057</td>\n",
       "      <td>0.000017</td>\n",
       "      <td>...</td>\n",
       "      <td>3</td>\n",
       "      <td>10</td>\n",
       "      <td>0.000018</td>\n",
       "      <td>0.000088</td>\n",
       "      <td>0.000003</td>\n",
       "      <td>1</td>\n",
       "      <td>6</td>\n",
       "      <td>3</td>\n",
       "      <td>20</td>\n",
       "      <td>1</td>\n",
       "    </tr>\n",
       "    <tr>\n",
       "      <th>1291881657</th>\n",
       "      <td>0.0</td>\n",
       "      <td>0.00000</td>\n",
       "      <td>0.000000</td>\n",
       "      <td>0</td>\n",
       "      <td>0</td>\n",
       "      <td>0</td>\n",
       "      <td>0</td>\n",
       "      <td>0.000000</td>\n",
       "      <td>0.000000</td>\n",
       "      <td>0.000000</td>\n",
       "      <td>...</td>\n",
       "      <td>0</td>\n",
       "      <td>0</td>\n",
       "      <td>0.000242</td>\n",
       "      <td>0.003744</td>\n",
       "      <td>0.001655</td>\n",
       "      <td>0</td>\n",
       "      <td>0</td>\n",
       "      <td>2</td>\n",
       "      <td>3</td>\n",
       "      <td>1</td>\n",
       "    </tr>\n",
       "    <tr>\n",
       "      <th>...</th>\n",
       "      <td>...</td>\n",
       "      <td>...</td>\n",
       "      <td>...</td>\n",
       "      <td>...</td>\n",
       "      <td>...</td>\n",
       "      <td>...</td>\n",
       "      <td>...</td>\n",
       "      <td>...</td>\n",
       "      <td>...</td>\n",
       "      <td>...</td>\n",
       "      <td>...</td>\n",
       "      <td>...</td>\n",
       "      <td>...</td>\n",
       "      <td>...</td>\n",
       "      <td>...</td>\n",
       "      <td>...</td>\n",
       "      <td>...</td>\n",
       "      <td>...</td>\n",
       "      <td>...</td>\n",
       "      <td>...</td>\n",
       "      <td>...</td>\n",
       "    </tr>\n",
       "    <tr>\n",
       "      <th>675691605</th>\n",
       "      <td>0.0</td>\n",
       "      <td>0.00000</td>\n",
       "      <td>0.000000</td>\n",
       "      <td>0</td>\n",
       "      <td>0</td>\n",
       "      <td>0</td>\n",
       "      <td>0</td>\n",
       "      <td>0.000108</td>\n",
       "      <td>0.000714</td>\n",
       "      <td>0.000199</td>\n",
       "      <td>...</td>\n",
       "      <td>1</td>\n",
       "      <td>6</td>\n",
       "      <td>0.000034</td>\n",
       "      <td>0.000340</td>\n",
       "      <td>0.000199</td>\n",
       "      <td>0</td>\n",
       "      <td>0</td>\n",
       "      <td>1</td>\n",
       "      <td>6</td>\n",
       "      <td>1</td>\n",
       "    </tr>\n",
       "    <tr>\n",
       "      <th>1417761924</th>\n",
       "      <td>0.0</td>\n",
       "      <td>0.00000</td>\n",
       "      <td>0.000000</td>\n",
       "      <td>0</td>\n",
       "      <td>0</td>\n",
       "      <td>1</td>\n",
       "      <td>1</td>\n",
       "      <td>0.000022</td>\n",
       "      <td>0.000149</td>\n",
       "      <td>0.000017</td>\n",
       "      <td>...</td>\n",
       "      <td>2</td>\n",
       "      <td>8</td>\n",
       "      <td>0.000017</td>\n",
       "      <td>0.000159</td>\n",
       "      <td>0.000017</td>\n",
       "      <td>0</td>\n",
       "      <td>0</td>\n",
       "      <td>3</td>\n",
       "      <td>12</td>\n",
       "      <td>1</td>\n",
       "    </tr>\n",
       "    <tr>\n",
       "      <th>1353717729</th>\n",
       "      <td>0.0</td>\n",
       "      <td>0.00000</td>\n",
       "      <td>0.000000</td>\n",
       "      <td>0</td>\n",
       "      <td>0</td>\n",
       "      <td>0</td>\n",
       "      <td>0</td>\n",
       "      <td>0.000000</td>\n",
       "      <td>0.000000</td>\n",
       "      <td>0.000000</td>\n",
       "      <td>...</td>\n",
       "      <td>0</td>\n",
       "      <td>0</td>\n",
       "      <td>0.000000</td>\n",
       "      <td>0.000000</td>\n",
       "      <td>0.000000</td>\n",
       "      <td>0</td>\n",
       "      <td>0</td>\n",
       "      <td>1</td>\n",
       "      <td>2</td>\n",
       "      <td>1</td>\n",
       "    </tr>\n",
       "    <tr>\n",
       "      <th>681466176</th>\n",
       "      <td>0.0</td>\n",
       "      <td>0.00000</td>\n",
       "      <td>0.000000</td>\n",
       "      <td>0</td>\n",
       "      <td>0</td>\n",
       "      <td>0</td>\n",
       "      <td>0</td>\n",
       "      <td>0.000010</td>\n",
       "      <td>0.000136</td>\n",
       "      <td>0.000314</td>\n",
       "      <td>...</td>\n",
       "      <td>1</td>\n",
       "      <td>1</td>\n",
       "      <td>0.000006</td>\n",
       "      <td>0.000065</td>\n",
       "      <td>0.000298</td>\n",
       "      <td>0</td>\n",
       "      <td>0</td>\n",
       "      <td>1</td>\n",
       "      <td>2</td>\n",
       "      <td>1</td>\n",
       "    </tr>\n",
       "    <tr>\n",
       "      <th>169195665</th>\n",
       "      <td>0.0</td>\n",
       "      <td>0.00800</td>\n",
       "      <td>0.071685</td>\n",
       "      <td>0</td>\n",
       "      <td>0</td>\n",
       "      <td>1</td>\n",
       "      <td>1</td>\n",
       "      <td>0.000441</td>\n",
       "      <td>0.005714</td>\n",
       "      <td>0.013240</td>\n",
       "      <td>...</td>\n",
       "      <td>1</td>\n",
       "      <td>1</td>\n",
       "      <td>0.000138</td>\n",
       "      <td>0.002723</td>\n",
       "      <td>0.013240</td>\n",
       "      <td>0</td>\n",
       "      <td>0</td>\n",
       "      <td>1</td>\n",
       "      <td>1</td>\n",
       "      <td>1</td>\n",
       "    </tr>\n",
       "  </tbody>\n",
       "</table>\n",
       "<p>29956 rows × 22 columns</p>\n",
       "</div>"
      ],
      "text/plain": [
       "            amount_week  max_amount_week  min_amount_week  \\\n",
       "rd_id                                                       \n",
       "1570544787          0.0          0.00000         0.000000   \n",
       "1689551331          0.0          0.00233         0.000090   \n",
       "498001800           0.0          0.00000         0.000000   \n",
       "1519332095          0.0          0.00007         0.000627   \n",
       "1291881657          0.0          0.00000         0.000000   \n",
       "...                 ...              ...              ...   \n",
       "675691605           0.0          0.00000         0.000000   \n",
       "1417761924          0.0          0.00000         0.000000   \n",
       "1353717729          0.0          0.00000         0.000000   \n",
       "681466176           0.0          0.00000         0.000000   \n",
       "169195665           0.0          0.00800         0.071685   \n",
       "\n",
       "            distinct_payment_code_week  count_payment_code_week  \\\n",
       "rd_id                                                             \n",
       "1570544787                           0                        0   \n",
       "1689551331                           0                        0   \n",
       "498001800                            0                        0   \n",
       "1519332095                           0                        0   \n",
       "1291881657                           0                        0   \n",
       "...                                ...                      ...   \n",
       "675691605                            0                        0   \n",
       "1417761924                           0                        0   \n",
       "1353717729                           0                        0   \n",
       "681466176                            0                        0   \n",
       "169195665                            0                        0   \n",
       "\n",
       "            distinct_trans_group_week  distinct_ref_no_week  amount_month  \\\n",
       "rd_id                                                                       \n",
       "1570544787                          0                     0      0.000038   \n",
       "1689551331                          1                    11      0.000922   \n",
       "498001800                           0                     0      0.000062   \n",
       "1519332095                          1                     1      0.000021   \n",
       "1291881657                          0                     0      0.000000   \n",
       "...                               ...                   ...           ...   \n",
       "675691605                           0                     0      0.000108   \n",
       "1417761924                          1                     1      0.000022   \n",
       "1353717729                          0                     0      0.000000   \n",
       "681466176                           0                     0      0.000010   \n",
       "169195665                           1                     1      0.000441   \n",
       "\n",
       "            max_amount_month  min_amount_month  ...  \\\n",
       "rd_id                                           ...   \n",
       "1570544787          0.000489          0.001134  ...   \n",
       "1689551331          0.002000          0.000017  ...   \n",
       "498001800           0.000071          0.000017  ...   \n",
       "1519332095          0.000057          0.000017  ...   \n",
       "1291881657          0.000000          0.000000  ...   \n",
       "...                      ...               ...  ...   \n",
       "675691605           0.000714          0.000199  ...   \n",
       "1417761924          0.000149          0.000017  ...   \n",
       "1353717729          0.000000          0.000000  ...   \n",
       "681466176           0.000136          0.000314  ...   \n",
       "169195665           0.005714          0.013240  ...   \n",
       "\n",
       "            distinct_trans_group_month  distinct_ref_no_month  amount_3month  \\\n",
       "rd_id                                                                          \n",
       "1570544787                           1                      1       0.000036   \n",
       "1689551331                           1                     48       0.000903   \n",
       "498001800                            2                     23       0.000073   \n",
       "1519332095                           3                     10       0.000018   \n",
       "1291881657                           0                      0       0.000242   \n",
       "...                                ...                    ...            ...   \n",
       "675691605                            1                      6       0.000034   \n",
       "1417761924                           2                      8       0.000017   \n",
       "1353717729                           0                      0       0.000000   \n",
       "681466176                            1                      1       0.000006   \n",
       "169195665                            1                      1       0.000138   \n",
       "\n",
       "            max_amount_3month  min_amount_3month  \\\n",
       "rd_id                                              \n",
       "1570544787           0.000233           0.000617   \n",
       "1689551331           0.001021           0.000003   \n",
       "498001800            0.000989           0.000005   \n",
       "1519332095           0.000088           0.000003   \n",
       "1291881657           0.003744           0.001655   \n",
       "...                       ...                ...   \n",
       "675691605            0.000340           0.000199   \n",
       "1417761924           0.000159           0.000017   \n",
       "1353717729           0.000000           0.000000   \n",
       "681466176            0.000065           0.000298   \n",
       "169195665            0.002723           0.013240   \n",
       "\n",
       "            distinct_payment_code_3month  count_payment_code_3month  \\\n",
       "rd_id                                                                 \n",
       "1570544787                             0                          0   \n",
       "1689551331                             1                          2   \n",
       "498001800                              1                          2   \n",
       "1519332095                             1                          6   \n",
       "1291881657                             0                          0   \n",
       "...                                  ...                        ...   \n",
       "675691605                              0                          0   \n",
       "1417761924                             0                          0   \n",
       "1353717729                             0                          0   \n",
       "681466176                              0                          0   \n",
       "169195665                              0                          0   \n",
       "\n",
       "            distinct_trans_group_3month  distinct_ref_no_3month  \\\n",
       "rd_id                                                             \n",
       "1570544787                            2                       5   \n",
       "1689551331                            3                     141   \n",
       "498001800                             3                      32   \n",
       "1519332095                            3                      20   \n",
       "1291881657                            2                       3   \n",
       "...                                 ...                     ...   \n",
       "675691605                             1                       6   \n",
       "1417761924                            3                      12   \n",
       "1353717729                            1                       2   \n",
       "681466176                             1                       2   \n",
       "169195665                             1                       1   \n",
       "\n",
       "            nhomno_xhtdJuin2021  \n",
       "rd_id                            \n",
       "1570544787                    1  \n",
       "1689551331                    1  \n",
       "498001800                     1  \n",
       "1519332095                    1  \n",
       "1291881657                    1  \n",
       "...                         ...  \n",
       "675691605                     1  \n",
       "1417761924                    1  \n",
       "1353717729                    1  \n",
       "681466176                     1  \n",
       "169195665                     1  \n",
       "\n",
       "[29956 rows x 22 columns]"
      ]
     },
     "execution_count": 29,
     "metadata": {},
     "output_type": "execute_result"
    }
   ],
   "source": [
    "core = pd.concat([df.iloc[:,3:24], df.iloc[:, -1]], axis = 1)\n",
    "core"
   ]
  },
  {
   "cell_type": "markdown",
   "id": "b31ed3e7",
   "metadata": {},
   "source": [
    "Tạo biến dummy cho categorical variables"
   ]
  },
  {
   "cell_type": "code",
   "execution_count": 14,
   "id": "1e78f598",
   "metadata": {},
   "outputs": [],
   "source": [
    "core = pd.get_dummies(data = core, columns = [\"gender\", 'marital_status'], drop_first = True)"
   ]
  },
  {
   "cell_type": "markdown",
   "id": "f0b963de",
   "metadata": {},
   "source": [
    "#### 2.2. Mô hình dự đoán khả năng chi trả tín dụng (Logistic Regression Model)"
   ]
  },
  {
   "cell_type": "code",
   "execution_count": 30,
   "id": "d9e1a87b",
   "metadata": {},
   "outputs": [],
   "source": [
    "data_credible = core\n",
    "data_credible['credible_group'] = np.where(data_credible[\"nhomno_xhtdJuin2021\"].isin([1]), 1, 0)\n",
    "data_credible = data_credible.drop(['nhomno_xhtdJuin2021'], axis = 1)"
   ]
  },
  {
   "cell_type": "code",
   "execution_count": 32,
   "id": "6c9e3764",
   "metadata": {},
   "outputs": [
    {
     "data": {
      "text/html": [
       "<div>\n",
       "<style scoped>\n",
       "    .dataframe tbody tr th:only-of-type {\n",
       "        vertical-align: middle;\n",
       "    }\n",
       "\n",
       "    .dataframe tbody tr th {\n",
       "        vertical-align: top;\n",
       "    }\n",
       "\n",
       "    .dataframe thead th {\n",
       "        text-align: right;\n",
       "    }\n",
       "</style>\n",
       "<table border=\"1\" class=\"dataframe\">\n",
       "  <thead>\n",
       "    <tr style=\"text-align: right;\">\n",
       "      <th></th>\n",
       "      <th>amount_week</th>\n",
       "      <th>max_amount_week</th>\n",
       "      <th>min_amount_week</th>\n",
       "      <th>distinct_payment_code_week</th>\n",
       "      <th>count_payment_code_week</th>\n",
       "      <th>distinct_trans_group_week</th>\n",
       "      <th>distinct_ref_no_week</th>\n",
       "      <th>amount_month</th>\n",
       "      <th>max_amount_month</th>\n",
       "      <th>min_amount_month</th>\n",
       "      <th>...</th>\n",
       "      <th>distinct_trans_group_month</th>\n",
       "      <th>distinct_ref_no_month</th>\n",
       "      <th>amount_3month</th>\n",
       "      <th>max_amount_3month</th>\n",
       "      <th>min_amount_3month</th>\n",
       "      <th>distinct_payment_code_3month</th>\n",
       "      <th>count_payment_code_3month</th>\n",
       "      <th>distinct_trans_group_3month</th>\n",
       "      <th>distinct_ref_no_3month</th>\n",
       "      <th>credible_group</th>\n",
       "    </tr>\n",
       "    <tr>\n",
       "      <th>rd_id</th>\n",
       "      <th></th>\n",
       "      <th></th>\n",
       "      <th></th>\n",
       "      <th></th>\n",
       "      <th></th>\n",
       "      <th></th>\n",
       "      <th></th>\n",
       "      <th></th>\n",
       "      <th></th>\n",
       "      <th></th>\n",
       "      <th></th>\n",
       "      <th></th>\n",
       "      <th></th>\n",
       "      <th></th>\n",
       "      <th></th>\n",
       "      <th></th>\n",
       "      <th></th>\n",
       "      <th></th>\n",
       "      <th></th>\n",
       "      <th></th>\n",
       "      <th></th>\n",
       "    </tr>\n",
       "  </thead>\n",
       "  <tbody>\n",
       "    <tr>\n",
       "      <th>1570544787</th>\n",
       "      <td>0.0</td>\n",
       "      <td>0.00000</td>\n",
       "      <td>0.000000</td>\n",
       "      <td>0</td>\n",
       "      <td>0</td>\n",
       "      <td>0</td>\n",
       "      <td>0</td>\n",
       "      <td>0.000038</td>\n",
       "      <td>0.000489</td>\n",
       "      <td>0.001134</td>\n",
       "      <td>...</td>\n",
       "      <td>1</td>\n",
       "      <td>1</td>\n",
       "      <td>0.000036</td>\n",
       "      <td>0.000233</td>\n",
       "      <td>0.000617</td>\n",
       "      <td>0</td>\n",
       "      <td>0</td>\n",
       "      <td>2</td>\n",
       "      <td>5</td>\n",
       "      <td>1</td>\n",
       "    </tr>\n",
       "    <tr>\n",
       "      <th>1689551331</th>\n",
       "      <td>0.0</td>\n",
       "      <td>0.00233</td>\n",
       "      <td>0.000090</td>\n",
       "      <td>0</td>\n",
       "      <td>0</td>\n",
       "      <td>1</td>\n",
       "      <td>11</td>\n",
       "      <td>0.000922</td>\n",
       "      <td>0.002000</td>\n",
       "      <td>0.000017</td>\n",
       "      <td>...</td>\n",
       "      <td>1</td>\n",
       "      <td>48</td>\n",
       "      <td>0.000903</td>\n",
       "      <td>0.001021</td>\n",
       "      <td>0.000003</td>\n",
       "      <td>1</td>\n",
       "      <td>2</td>\n",
       "      <td>3</td>\n",
       "      <td>141</td>\n",
       "      <td>1</td>\n",
       "    </tr>\n",
       "    <tr>\n",
       "      <th>498001800</th>\n",
       "      <td>0.0</td>\n",
       "      <td>0.00000</td>\n",
       "      <td>0.000000</td>\n",
       "      <td>0</td>\n",
       "      <td>0</td>\n",
       "      <td>0</td>\n",
       "      <td>0</td>\n",
       "      <td>0.000062</td>\n",
       "      <td>0.000071</td>\n",
       "      <td>0.000017</td>\n",
       "      <td>...</td>\n",
       "      <td>2</td>\n",
       "      <td>23</td>\n",
       "      <td>0.000073</td>\n",
       "      <td>0.000989</td>\n",
       "      <td>0.000005</td>\n",
       "      <td>1</td>\n",
       "      <td>2</td>\n",
       "      <td>3</td>\n",
       "      <td>32</td>\n",
       "      <td>1</td>\n",
       "    </tr>\n",
       "    <tr>\n",
       "      <th>1519332095</th>\n",
       "      <td>0.0</td>\n",
       "      <td>0.00007</td>\n",
       "      <td>0.000627</td>\n",
       "      <td>0</td>\n",
       "      <td>0</td>\n",
       "      <td>1</td>\n",
       "      <td>1</td>\n",
       "      <td>0.000021</td>\n",
       "      <td>0.000057</td>\n",
       "      <td>0.000017</td>\n",
       "      <td>...</td>\n",
       "      <td>3</td>\n",
       "      <td>10</td>\n",
       "      <td>0.000018</td>\n",
       "      <td>0.000088</td>\n",
       "      <td>0.000003</td>\n",
       "      <td>1</td>\n",
       "      <td>6</td>\n",
       "      <td>3</td>\n",
       "      <td>20</td>\n",
       "      <td>1</td>\n",
       "    </tr>\n",
       "    <tr>\n",
       "      <th>1291881657</th>\n",
       "      <td>0.0</td>\n",
       "      <td>0.00000</td>\n",
       "      <td>0.000000</td>\n",
       "      <td>0</td>\n",
       "      <td>0</td>\n",
       "      <td>0</td>\n",
       "      <td>0</td>\n",
       "      <td>0.000000</td>\n",
       "      <td>0.000000</td>\n",
       "      <td>0.000000</td>\n",
       "      <td>...</td>\n",
       "      <td>0</td>\n",
       "      <td>0</td>\n",
       "      <td>0.000242</td>\n",
       "      <td>0.003744</td>\n",
       "      <td>0.001655</td>\n",
       "      <td>0</td>\n",
       "      <td>0</td>\n",
       "      <td>2</td>\n",
       "      <td>3</td>\n",
       "      <td>1</td>\n",
       "    </tr>\n",
       "    <tr>\n",
       "      <th>...</th>\n",
       "      <td>...</td>\n",
       "      <td>...</td>\n",
       "      <td>...</td>\n",
       "      <td>...</td>\n",
       "      <td>...</td>\n",
       "      <td>...</td>\n",
       "      <td>...</td>\n",
       "      <td>...</td>\n",
       "      <td>...</td>\n",
       "      <td>...</td>\n",
       "      <td>...</td>\n",
       "      <td>...</td>\n",
       "      <td>...</td>\n",
       "      <td>...</td>\n",
       "      <td>...</td>\n",
       "      <td>...</td>\n",
       "      <td>...</td>\n",
       "      <td>...</td>\n",
       "      <td>...</td>\n",
       "      <td>...</td>\n",
       "      <td>...</td>\n",
       "    </tr>\n",
       "    <tr>\n",
       "      <th>675691605</th>\n",
       "      <td>0.0</td>\n",
       "      <td>0.00000</td>\n",
       "      <td>0.000000</td>\n",
       "      <td>0</td>\n",
       "      <td>0</td>\n",
       "      <td>0</td>\n",
       "      <td>0</td>\n",
       "      <td>0.000108</td>\n",
       "      <td>0.000714</td>\n",
       "      <td>0.000199</td>\n",
       "      <td>...</td>\n",
       "      <td>1</td>\n",
       "      <td>6</td>\n",
       "      <td>0.000034</td>\n",
       "      <td>0.000340</td>\n",
       "      <td>0.000199</td>\n",
       "      <td>0</td>\n",
       "      <td>0</td>\n",
       "      <td>1</td>\n",
       "      <td>6</td>\n",
       "      <td>1</td>\n",
       "    </tr>\n",
       "    <tr>\n",
       "      <th>1417761924</th>\n",
       "      <td>0.0</td>\n",
       "      <td>0.00000</td>\n",
       "      <td>0.000000</td>\n",
       "      <td>0</td>\n",
       "      <td>0</td>\n",
       "      <td>1</td>\n",
       "      <td>1</td>\n",
       "      <td>0.000022</td>\n",
       "      <td>0.000149</td>\n",
       "      <td>0.000017</td>\n",
       "      <td>...</td>\n",
       "      <td>2</td>\n",
       "      <td>8</td>\n",
       "      <td>0.000017</td>\n",
       "      <td>0.000159</td>\n",
       "      <td>0.000017</td>\n",
       "      <td>0</td>\n",
       "      <td>0</td>\n",
       "      <td>3</td>\n",
       "      <td>12</td>\n",
       "      <td>1</td>\n",
       "    </tr>\n",
       "    <tr>\n",
       "      <th>1353717729</th>\n",
       "      <td>0.0</td>\n",
       "      <td>0.00000</td>\n",
       "      <td>0.000000</td>\n",
       "      <td>0</td>\n",
       "      <td>0</td>\n",
       "      <td>0</td>\n",
       "      <td>0</td>\n",
       "      <td>0.000000</td>\n",
       "      <td>0.000000</td>\n",
       "      <td>0.000000</td>\n",
       "      <td>...</td>\n",
       "      <td>0</td>\n",
       "      <td>0</td>\n",
       "      <td>0.000000</td>\n",
       "      <td>0.000000</td>\n",
       "      <td>0.000000</td>\n",
       "      <td>0</td>\n",
       "      <td>0</td>\n",
       "      <td>1</td>\n",
       "      <td>2</td>\n",
       "      <td>1</td>\n",
       "    </tr>\n",
       "    <tr>\n",
       "      <th>681466176</th>\n",
       "      <td>0.0</td>\n",
       "      <td>0.00000</td>\n",
       "      <td>0.000000</td>\n",
       "      <td>0</td>\n",
       "      <td>0</td>\n",
       "      <td>0</td>\n",
       "      <td>0</td>\n",
       "      <td>0.000010</td>\n",
       "      <td>0.000136</td>\n",
       "      <td>0.000314</td>\n",
       "      <td>...</td>\n",
       "      <td>1</td>\n",
       "      <td>1</td>\n",
       "      <td>0.000006</td>\n",
       "      <td>0.000065</td>\n",
       "      <td>0.000298</td>\n",
       "      <td>0</td>\n",
       "      <td>0</td>\n",
       "      <td>1</td>\n",
       "      <td>2</td>\n",
       "      <td>1</td>\n",
       "    </tr>\n",
       "    <tr>\n",
       "      <th>169195665</th>\n",
       "      <td>0.0</td>\n",
       "      <td>0.00800</td>\n",
       "      <td>0.071685</td>\n",
       "      <td>0</td>\n",
       "      <td>0</td>\n",
       "      <td>1</td>\n",
       "      <td>1</td>\n",
       "      <td>0.000441</td>\n",
       "      <td>0.005714</td>\n",
       "      <td>0.013240</td>\n",
       "      <td>...</td>\n",
       "      <td>1</td>\n",
       "      <td>1</td>\n",
       "      <td>0.000138</td>\n",
       "      <td>0.002723</td>\n",
       "      <td>0.013240</td>\n",
       "      <td>0</td>\n",
       "      <td>0</td>\n",
       "      <td>1</td>\n",
       "      <td>1</td>\n",
       "      <td>1</td>\n",
       "    </tr>\n",
       "  </tbody>\n",
       "</table>\n",
       "<p>29956 rows × 22 columns</p>\n",
       "</div>"
      ],
      "text/plain": [
       "            amount_week  max_amount_week  min_amount_week  \\\n",
       "rd_id                                                       \n",
       "1570544787          0.0          0.00000         0.000000   \n",
       "1689551331          0.0          0.00233         0.000090   \n",
       "498001800           0.0          0.00000         0.000000   \n",
       "1519332095          0.0          0.00007         0.000627   \n",
       "1291881657          0.0          0.00000         0.000000   \n",
       "...                 ...              ...              ...   \n",
       "675691605           0.0          0.00000         0.000000   \n",
       "1417761924          0.0          0.00000         0.000000   \n",
       "1353717729          0.0          0.00000         0.000000   \n",
       "681466176           0.0          0.00000         0.000000   \n",
       "169195665           0.0          0.00800         0.071685   \n",
       "\n",
       "            distinct_payment_code_week  count_payment_code_week  \\\n",
       "rd_id                                                             \n",
       "1570544787                           0                        0   \n",
       "1689551331                           0                        0   \n",
       "498001800                            0                        0   \n",
       "1519332095                           0                        0   \n",
       "1291881657                           0                        0   \n",
       "...                                ...                      ...   \n",
       "675691605                            0                        0   \n",
       "1417761924                           0                        0   \n",
       "1353717729                           0                        0   \n",
       "681466176                            0                        0   \n",
       "169195665                            0                        0   \n",
       "\n",
       "            distinct_trans_group_week  distinct_ref_no_week  amount_month  \\\n",
       "rd_id                                                                       \n",
       "1570544787                          0                     0      0.000038   \n",
       "1689551331                          1                    11      0.000922   \n",
       "498001800                           0                     0      0.000062   \n",
       "1519332095                          1                     1      0.000021   \n",
       "1291881657                          0                     0      0.000000   \n",
       "...                               ...                   ...           ...   \n",
       "675691605                           0                     0      0.000108   \n",
       "1417761924                          1                     1      0.000022   \n",
       "1353717729                          0                     0      0.000000   \n",
       "681466176                           0                     0      0.000010   \n",
       "169195665                           1                     1      0.000441   \n",
       "\n",
       "            max_amount_month  min_amount_month  ...  \\\n",
       "rd_id                                           ...   \n",
       "1570544787          0.000489          0.001134  ...   \n",
       "1689551331          0.002000          0.000017  ...   \n",
       "498001800           0.000071          0.000017  ...   \n",
       "1519332095          0.000057          0.000017  ...   \n",
       "1291881657          0.000000          0.000000  ...   \n",
       "...                      ...               ...  ...   \n",
       "675691605           0.000714          0.000199  ...   \n",
       "1417761924          0.000149          0.000017  ...   \n",
       "1353717729          0.000000          0.000000  ...   \n",
       "681466176           0.000136          0.000314  ...   \n",
       "169195665           0.005714          0.013240  ...   \n",
       "\n",
       "            distinct_trans_group_month  distinct_ref_no_month  amount_3month  \\\n",
       "rd_id                                                                          \n",
       "1570544787                           1                      1       0.000036   \n",
       "1689551331                           1                     48       0.000903   \n",
       "498001800                            2                     23       0.000073   \n",
       "1519332095                           3                     10       0.000018   \n",
       "1291881657                           0                      0       0.000242   \n",
       "...                                ...                    ...            ...   \n",
       "675691605                            1                      6       0.000034   \n",
       "1417761924                           2                      8       0.000017   \n",
       "1353717729                           0                      0       0.000000   \n",
       "681466176                            1                      1       0.000006   \n",
       "169195665                            1                      1       0.000138   \n",
       "\n",
       "            max_amount_3month  min_amount_3month  \\\n",
       "rd_id                                              \n",
       "1570544787           0.000233           0.000617   \n",
       "1689551331           0.001021           0.000003   \n",
       "498001800            0.000989           0.000005   \n",
       "1519332095           0.000088           0.000003   \n",
       "1291881657           0.003744           0.001655   \n",
       "...                       ...                ...   \n",
       "675691605            0.000340           0.000199   \n",
       "1417761924           0.000159           0.000017   \n",
       "1353717729           0.000000           0.000000   \n",
       "681466176            0.000065           0.000298   \n",
       "169195665            0.002723           0.013240   \n",
       "\n",
       "            distinct_payment_code_3month  count_payment_code_3month  \\\n",
       "rd_id                                                                 \n",
       "1570544787                             0                          0   \n",
       "1689551331                             1                          2   \n",
       "498001800                              1                          2   \n",
       "1519332095                             1                          6   \n",
       "1291881657                             0                          0   \n",
       "...                                  ...                        ...   \n",
       "675691605                              0                          0   \n",
       "1417761924                             0                          0   \n",
       "1353717729                             0                          0   \n",
       "681466176                              0                          0   \n",
       "169195665                              0                          0   \n",
       "\n",
       "            distinct_trans_group_3month  distinct_ref_no_3month  \\\n",
       "rd_id                                                             \n",
       "1570544787                            2                       5   \n",
       "1689551331                            3                     141   \n",
       "498001800                             3                      32   \n",
       "1519332095                            3                      20   \n",
       "1291881657                            2                       3   \n",
       "...                                 ...                     ...   \n",
       "675691605                             1                       6   \n",
       "1417761924                            3                      12   \n",
       "1353717729                            1                       2   \n",
       "681466176                             1                       2   \n",
       "169195665                             1                       1   \n",
       "\n",
       "            credible_group  \n",
       "rd_id                       \n",
       "1570544787               1  \n",
       "1689551331               1  \n",
       "498001800                1  \n",
       "1519332095               1  \n",
       "1291881657               1  \n",
       "...                    ...  \n",
       "675691605                1  \n",
       "1417761924               1  \n",
       "1353717729               1  \n",
       "681466176                1  \n",
       "169195665                1  \n",
       "\n",
       "[29956 rows x 22 columns]"
      ]
     },
     "execution_count": 32,
     "metadata": {},
     "output_type": "execute_result"
    }
   ],
   "source": [
    "data_credible"
   ]
  },
  {
   "cell_type": "code",
   "execution_count": 31,
   "id": "dd187e1b",
   "metadata": {},
   "outputs": [],
   "source": [
    "from sklearn.model_selection import train_test_split"
   ]
  },
  {
   "cell_type": "code",
   "execution_count": 32,
   "id": "c17f3e12",
   "metadata": {},
   "outputs": [],
   "source": [
    "X_train_credible, X_test_credible, y_train_credible, y_test_credible = train_test_split(data_credible.drop('credible_group', axis = 1),\n",
    "                                                                                        data_credible['credible_group'], test_size = 0.2,\n",
    "                                                                                        random_state = 101)"
   ]
  },
  {
   "cell_type": "markdown",
   "id": "485a49de",
   "metadata": {},
   "source": [
    "- **Grid Search for the hyperparameters in Logistic Regression Model**"
   ]
  },
  {
   "cell_type": "code",
   "execution_count": 17,
   "id": "190a9aa1",
   "metadata": {},
   "outputs": [],
   "source": [
    "from sklearn.model_selection import GridSearchCV\n",
    "from sklearn.linear_model import LogisticRegression"
   ]
  },
  {
   "cell_type": "code",
   "execution_count": 46,
   "id": "ac158ee8",
   "metadata": {},
   "outputs": [],
   "source": [
    "logmodel_test = LogisticRegression()"
   ]
  },
  {
   "cell_type": "markdown",
   "id": "2adeb433",
   "metadata": {},
   "source": [
    "We create a dictionary of parameter values:"
   ]
  },
  {
   "cell_type": "code",
   "execution_count": 47,
   "id": "83e84af5",
   "metadata": {},
   "outputs": [],
   "source": [
    "logit_hyper_values = [    \n",
    "    {'C' : [0.01, 0.1, 1, 10, 100, 1000, 10000, 100000],\n",
    "    'solver' : ['lbfgs','newton-cg','liblinear','sag','saga'],\n",
    "    'max_iter' : [100, 1000, 2500, 5000]\n",
    "    }\n",
    "]"
   ]
  },
  {
   "cell_type": "code",
   "execution_count": 48,
   "id": "d5fb40da",
   "metadata": {},
   "outputs": [],
   "source": [
    "find_logit_hyper = GridSearchCV(logmodel_test, param_grid = logit_hyper_values, cv = 4, verbose = True, n_jobs = -1)"
   ]
  },
  {
   "cell_type": "code",
   "execution_count": 49,
   "id": "717d190b",
   "metadata": {},
   "outputs": [
    {
     "name": "stdout",
     "output_type": "stream",
     "text": [
      "Fitting 4 folds for each of 160 candidates, totalling 640 fits\n"
     ]
    },
    {
     "name": "stderr",
     "output_type": "stream",
     "text": [
      "C:\\ProgramData\\Anaconda3\\lib\\site-packages\\sklearn\\utils\\optimize.py:202: ConvergenceWarning: newton-cg failed to converge. Increase the number of iterations.\n",
      "  warnings.warn(\"newton-cg failed to converge. Increase the \"\n"
     ]
    }
   ],
   "source": [
    "find_best_logit_hyper = find_logit_hyper.fit(data_credible.drop('credible_group', axis = 1), data_credible['credible_group'])"
   ]
  },
  {
   "cell_type": "code",
   "execution_count": 50,
   "id": "e2bc63fd",
   "metadata": {},
   "outputs": [
    {
     "data": {
      "text/plain": [
       "LogisticRegression(C=1000, solver='newton-cg')"
      ]
     },
     "execution_count": 50,
     "metadata": {},
     "output_type": "execute_result"
    }
   ],
   "source": [
    "best_logit_hyper = find_best_logit_hyper.best_estimator_\n",
    "best_logit_hyper"
   ]
  },
  {
   "cell_type": "markdown",
   "id": "7d40c3af",
   "metadata": {},
   "source": [
    "- **Training and Predicting**"
   ]
  },
  {
   "cell_type": "code",
   "execution_count": 60,
   "id": "28406c99",
   "metadata": {},
   "outputs": [
    {
     "data": {
      "text/plain": [
       "LogisticRegression(C=1000, class_weight='balanced', solver='newton-cg')"
      ]
     },
     "execution_count": 60,
     "metadata": {},
     "output_type": "execute_result"
    }
   ],
   "source": [
    "logmodel_credible = LogisticRegression(C = 1000, solver = 'newton-cg', class_weight = 'balanced')\n",
    "\n",
    "logmodel_credible.fit(X_train_credible, y_train_credible)"
   ]
  },
  {
   "cell_type": "code",
   "execution_count": 61,
   "id": "80cc1d2a",
   "metadata": {},
   "outputs": [],
   "source": [
    "yhat_credible_lr = logmodel_credible.predict(X_test_credible)"
   ]
  },
  {
   "cell_type": "code",
   "execution_count": 62,
   "id": "0089d7db",
   "metadata": {},
   "outputs": [
    {
     "data": {
      "text/plain": [
       "array([0, 0, 0, 0, 0])"
      ]
     },
     "execution_count": 62,
     "metadata": {},
     "output_type": "execute_result"
    }
   ],
   "source": [
    "yhat_credible_lr[:5]"
   ]
  },
  {
   "cell_type": "code",
   "execution_count": 63,
   "id": "e69527a7",
   "metadata": {},
   "outputs": [
    {
     "data": {
      "text/plain": [
       "array([[ 1.88898905e-02, -9.48224744e+00, -1.16158130e+01,\n",
       "         1.97636198e+00, -1.40106630e-01, -1.21873394e-01,\n",
       "         2.48895133e-01,  4.03611456e-02,  2.13820974e+01,\n",
       "        -2.67661247e+00,  8.10542498e+00,  1.88294204e-01,\n",
       "         1.88031847e-02,  2.75273497e-01, -2.70820582e-03,\n",
       "        -1.79852460e+01,  5.51960129e+01, -1.43280126e+01,\n",
       "         3.87293592e-02, -1.00420290e-02,  9.14104962e-02,\n",
       "        -5.03156914e-03, -6.33353404e-01, -1.21268359e+00,\n",
       "        -1.71042711e+00, -2.04607280e+00,  1.40181116e+00,\n",
       "        -1.25613712e+00, -1.23944998e+00]])"
      ]
     },
     "execution_count": 63,
     "metadata": {},
     "output_type": "execute_result"
    }
   ],
   "source": [
    "logmodel_credible.coef_"
   ]
  },
  {
   "cell_type": "markdown",
   "id": "17c844da",
   "metadata": {},
   "source": [
    "- **Evaluation**"
   ]
  },
  {
   "cell_type": "code",
   "execution_count": 18,
   "id": "d4fc7d74",
   "metadata": {},
   "outputs": [],
   "source": [
    "from sklearn.metrics import classification_report\n",
    "from sklearn.metrics import confusion_matrix\n",
    "from sklearn import metrics"
   ]
  },
  {
   "cell_type": "code",
   "execution_count": 65,
   "id": "7e23ef25",
   "metadata": {},
   "outputs": [
    {
     "data": {
      "text/plain": [
       "array([[2085,  748],\n",
       "       [1268, 1891]], dtype=int64)"
      ]
     },
     "execution_count": 65,
     "metadata": {},
     "output_type": "execute_result"
    }
   ],
   "source": [
    "confusion_matrix(y_test_credible, yhat_credible_lr)"
   ]
  },
  {
   "cell_type": "code",
   "execution_count": 66,
   "id": "c010c78d",
   "metadata": {
    "scrolled": true
   },
   "outputs": [
    {
     "name": "stdout",
     "output_type": "stream",
     "text": [
      "              precision    recall  f1-score   support\n",
      "\n",
      "           0       0.62      0.74      0.67      2833\n",
      "           1       0.72      0.60      0.65      3159\n",
      "\n",
      "    accuracy                           0.66      5992\n",
      "   macro avg       0.67      0.67      0.66      5992\n",
      "weighted avg       0.67      0.66      0.66      5992\n",
      "\n"
     ]
    }
   ],
   "source": [
    "print(classification_report(y_test_credible, yhat_credible_lr))"
   ]
  },
  {
   "cell_type": "code",
   "execution_count": 58,
   "id": "749b1d21",
   "metadata": {
    "scrolled": true
   },
   "outputs": [
    {
     "data": {
      "text/plain": [
       "0.650200267022697"
      ]
     },
     "execution_count": 58,
     "metadata": {},
     "output_type": "execute_result"
    }
   ],
   "source": [
    "logmodel_credible.score(X_test_credible, y_test_credible)"
   ]
  },
  {
   "cell_type": "markdown",
   "id": "f434c6ad",
   "metadata": {},
   "source": [
    "- **ROC curve**"
   ]
  },
  {
   "cell_type": "code",
   "execution_count": 59,
   "id": "730b2112",
   "metadata": {},
   "outputs": [
    {
     "data": {
      "image/png": "[encoded data removed]",
      "text/plain": [
       "<Figure size 432x288 with 1 Axes>"
      ]
     },
     "metadata": {
      "needs_background": "light"
     },
     "output_type": "display_data"
    }
   ],
   "source": [
    "y_pred_proba = logmodel_credible.predict_proba(X_test_credible)[::,1]\n",
    "fpr, tpr, _ = metrics.roc_curve(y_test_credible,  y_pred_proba)\n",
    "auc = metrics.roc_auc_score(y_test_credible, y_pred_proba)\n",
    "plt.plot(fpr,tpr,label=\"data, auc=\"+str(auc))\n",
    "plt.legend(loc=4)\n",
    "plt.show()"
   ]
  },
  {
   "cell_type": "markdown",
   "id": "3ce7b77b",
   "metadata": {},
   "source": [
    "#### 3.3. Stratified K-Fold Cross-Validation"
   ]
  },
  {
   "cell_type": "code",
   "execution_count": 19,
   "id": "aa0d89b2",
   "metadata": {},
   "outputs": [],
   "source": [
    "from sklearn.model_selection import cross_val_score,StratifiedKFold"
   ]
  },
  {
   "cell_type": "code",
   "execution_count": 96,
   "id": "63a7a95a",
   "metadata": {},
   "outputs": [
    {
     "name": "stderr",
     "output_type": "stream",
     "text": [
      "C:\\ProgramData\\Anaconda3\\lib\\site-packages\\sklearn\\linear_model\\_logistic.py:763: ConvergenceWarning: lbfgs failed to converge (status=1):\n",
      "STOP: TOTAL NO. of ITERATIONS REACHED LIMIT.\n",
      "\n",
      "Increase the number of iterations (max_iter) or scale the data as shown in:\n",
      "    https://scikit-learn.org/stable/modules/preprocessing.html\n",
      "Please also refer to the documentation for alternative solver options:\n",
      "    https://scikit-learn.org/stable/modules/linear_model.html#logistic-regression\n",
      "  n_iter_i = _check_optimize_result(\n",
      "C:\\ProgramData\\Anaconda3\\lib\\site-packages\\sklearn\\linear_model\\_logistic.py:763: ConvergenceWarning: lbfgs failed to converge (status=1):\n",
      "STOP: TOTAL NO. of ITERATIONS REACHED LIMIT.\n",
      "\n",
      "Increase the number of iterations (max_iter) or scale the data as shown in:\n",
      "    https://scikit-learn.org/stable/modules/preprocessing.html\n",
      "Please also refer to the documentation for alternative solver options:\n",
      "    https://scikit-learn.org/stable/modules/linear_model.html#logistic-regression\n",
      "  n_iter_i = _check_optimize_result(\n",
      "C:\\ProgramData\\Anaconda3\\lib\\site-packages\\sklearn\\linear_model\\_logistic.py:763: ConvergenceWarning: lbfgs failed to converge (status=1):\n",
      "STOP: TOTAL NO. of ITERATIONS REACHED LIMIT.\n",
      "\n",
      "Increase the number of iterations (max_iter) or scale the data as shown in:\n",
      "    https://scikit-learn.org/stable/modules/preprocessing.html\n",
      "Please also refer to the documentation for alternative solver options:\n",
      "    https://scikit-learn.org/stable/modules/linear_model.html#logistic-regression\n",
      "  n_iter_i = _check_optimize_result(\n",
      "C:\\ProgramData\\Anaconda3\\lib\\site-packages\\sklearn\\linear_model\\_logistic.py:763: ConvergenceWarning: lbfgs failed to converge (status=1):\n",
      "STOP: TOTAL NO. of ITERATIONS REACHED LIMIT.\n",
      "\n",
      "Increase the number of iterations (max_iter) or scale the data as shown in:\n",
      "    https://scikit-learn.org/stable/modules/preprocessing.html\n",
      "Please also refer to the documentation for alternative solver options:\n",
      "    https://scikit-learn.org/stable/modules/linear_model.html#logistic-regression\n",
      "  n_iter_i = _check_optimize_result(\n"
     ]
    },
    {
     "name": "stdout",
     "output_type": "stream",
     "text": [
      "Cross Validation Scores are [0.54105474 0.57719913 0.57703221 0.62894342 0.75112669]\n",
      "Average Cross Validation score: 0.6150712383662276\n"
     ]
    },
    {
     "name": "stderr",
     "output_type": "stream",
     "text": [
      "C:\\ProgramData\\Anaconda3\\lib\\site-packages\\sklearn\\linear_model\\_logistic.py:763: ConvergenceWarning: lbfgs failed to converge (status=1):\n",
      "STOP: TOTAL NO. of ITERATIONS REACHED LIMIT.\n",
      "\n",
      "Increase the number of iterations (max_iter) or scale the data as shown in:\n",
      "    https://scikit-learn.org/stable/modules/preprocessing.html\n",
      "Please also refer to the documentation for alternative solver options:\n",
      "    https://scikit-learn.org/stable/modules/linear_model.html#logistic-regression\n",
      "  n_iter_i = _check_optimize_result(\n"
     ]
    }
   ],
   "source": [
    "stratified_kf = StratifiedKFold(n_splits = 5)\n",
    "cvs_score = cross_val_score(logmodel_credible, data_credible.drop('credible_group', axis = 1), data_credible['credible_group'], cv = stratified_kf)\n",
    "print('Cross Validation Scores are {}'.format(cvs_score))\n",
    "print('Average Cross Validation score: {}'.format(cvs_score.mean()))"
   ]
  },
  {
   "cell_type": "markdown",
   "id": "465ced24",
   "metadata": {},
   "source": [
    "#### 3.4. K Nearest Neighbors"
   ]
  },
  {
   "cell_type": "code",
   "execution_count": 20,
   "id": "e66fbd2a",
   "metadata": {},
   "outputs": [],
   "source": [
    "from sklearn.neighbors import KNeighborsClassifier\n",
    "from sklearn.metrics import accuracy_score"
   ]
  },
  {
   "cell_type": "code",
   "execution_count": 98,
   "id": "878451c0",
   "metadata": {},
   "outputs": [
    {
     "name": "stdout",
     "output_type": "stream",
     "text": [
      "Optimal k: 1\n"
     ]
    },
    {
     "data": {
      "image/png": "[encoded data removed]",
      "text/plain": [
       "<Figure size 432x288 with 1 Axes>"
      ]
     },
     "metadata": {
      "needs_background": "light"
     },
     "output_type": "display_data"
    }
   ],
   "source": [
    "accuracy_scores = {}\n",
    "\n",
    "for i in range(1,20):\n",
    "    knn = KNeighborsClassifier(n_neighbors = i, metric = 'minkowski', p = 2, algorithm = 'auto')\n",
    "    knn.fit(X_train_credible, y_train_credible)\n",
    "    yhat_credible_knn = knn.predict(X_test_credible)\n",
    "    accuracy_scores[i] = accuracy_score(y_test_credible, yhat_credible_knn)\n",
    "\n",
    "plt.plot(list(accuracy_scores.keys()), list(accuracy_scores.values()))\n",
    "optimal_k = max(accuracy_scores.items(), key = lambda k : k[1])\n",
    "print('Optimal k: {}'.format(optimal_k[0]))"
   ]
  },
  {
   "cell_type": "code",
   "execution_count": 99,
   "id": "faf40e2c",
   "metadata": {},
   "outputs": [
    {
     "data": {
      "text/plain": [
       "KNeighborsClassifier(n_neighbors=1)"
      ]
     },
     "execution_count": 99,
     "metadata": {},
     "output_type": "execute_result"
    }
   ],
   "source": [
    "clf = KNeighborsClassifier(n_neighbors = 1, metric = 'minkowski', p = 2, algorithm = 'auto')\n",
    "clf.fit(X_train_credible, y_train_credible)"
   ]
  },
  {
   "cell_type": "code",
   "execution_count": 100,
   "id": "dd1bada0",
   "metadata": {},
   "outputs": [],
   "source": [
    "yhat_credible_knn = clf.predict(X_test_credible)"
   ]
  },
  {
   "cell_type": "code",
   "execution_count": 115,
   "id": "ee0b28a5",
   "metadata": {},
   "outputs": [
    {
     "data": {
      "text/plain": [
       "array([[2500,  333],\n",
       "       [ 733, 2426]], dtype=int64)"
      ]
     },
     "execution_count": 115,
     "metadata": {},
     "output_type": "execute_result"
    }
   ],
   "source": [
    "confusion_matrix(y_test_credible, yhat_credible_knn)"
   ]
  },
  {
   "cell_type": "code",
   "execution_count": 101,
   "id": "51165f8a",
   "metadata": {},
   "outputs": [
    {
     "name": "stdout",
     "output_type": "stream",
     "text": [
      "              precision    recall  f1-score   support\n",
      "\n",
      "           0       0.77      0.88      0.82      2833\n",
      "           1       0.88      0.77      0.82      3159\n",
      "\n",
      "    accuracy                           0.82      5992\n",
      "   macro avg       0.83      0.83      0.82      5992\n",
      "weighted avg       0.83      0.82      0.82      5992\n",
      "\n"
     ]
    }
   ],
   "source": [
    "print(classification_report(y_test_credible, yhat_credible_knn))"
   ]
  },
  {
   "cell_type": "code",
   "execution_count": 102,
   "id": "50de108c",
   "metadata": {},
   "outputs": [
    {
     "data": {
      "text/plain": [
       "0.8220961281708945"
      ]
     },
     "execution_count": 102,
     "metadata": {},
     "output_type": "execute_result"
    }
   ],
   "source": [
    "accuracy_score(y_test_credible, yhat_credible_knn)"
   ]
  },
  {
   "cell_type": "markdown",
   "id": "372ca38a",
   "metadata": {},
   "source": [
    "#### 3.5. Random Forest"
   ]
  },
  {
   "cell_type": "markdown",
   "id": "5ca877d4",
   "metadata": {},
   "source": [
    "- **Grid Search for the hyperparameters in Random Forest Model**"
   ]
  },
  {
   "cell_type": "code",
   "execution_count": 33,
   "id": "2c660a81",
   "metadata": {},
   "outputs": [],
   "source": [
    "from sklearn.ensemble import RandomForestClassifier "
   ]
  },
  {
   "cell_type": "code",
   "execution_count": 22,
   "id": "f7130f24",
   "metadata": {},
   "outputs": [],
   "source": [
    "rfmodel_test = RandomForestClassifier()"
   ]
  },
  {
   "cell_type": "markdown",
   "id": "9a8c261a",
   "metadata": {},
   "source": [
    "We create a dictionary of parameter values:"
   ]
  },
  {
   "cell_type": "code",
   "execution_count": 35,
   "id": "bafc9bde",
   "metadata": {},
   "outputs": [],
   "source": [
    "rf_hyper_values = [    \n",
    "    {'n_estimators' : [int(x) for x in np.linspace(50, 1050, num = 21)]}\n",
    "]"
   ]
  },
  {
   "cell_type": "code",
   "execution_count": 36,
   "id": "abc80157",
   "metadata": {},
   "outputs": [],
   "source": [
    "find_rf_hyper = GridSearchCV(rfmodel_test, param_grid = rf_hyper_values, cv = 4, verbose = True, n_jobs = -1)"
   ]
  },
  {
   "cell_type": "code",
   "execution_count": 37,
   "id": "63f33413",
   "metadata": {},
   "outputs": [
    {
     "name": "stdout",
     "output_type": "stream",
     "text": [
      "Fitting 4 folds for each of 21 candidates, totalling 84 fits\n"
     ]
    }
   ],
   "source": [
    "find_best_rf_hyper = find_rf_hyper.fit(data_credible.drop('credible_group', axis = 1), data_credible['credible_group'])"
   ]
  },
  {
   "cell_type": "code",
   "execution_count": 38,
   "id": "173e1fff",
   "metadata": {},
   "outputs": [
    {
     "data": {
      "text/plain": [
       "RandomForestClassifier(n_estimators=50)"
      ]
     },
     "execution_count": 38,
     "metadata": {},
     "output_type": "execute_result"
    }
   ],
   "source": [
    "best_rf_hyper = find_best_rf_hyper.best_estimator_\n",
    "best_rf_hyper"
   ]
  },
  {
   "cell_type": "code",
   "execution_count": 116,
   "id": "ded507a0",
   "metadata": {},
   "outputs": [],
   "source": [
    "RandomForestClassifier??"
   ]
  },
  {
   "cell_type": "code",
   "execution_count": 117,
   "id": "fbe66ff7",
   "metadata": {},
   "outputs": [
    {
     "name": "stdout",
     "output_type": "stream",
     "text": [
      "Optimal estimators: 1\n"
     ]
    },
    {
     "data": {
      "image/png": "[encoded data removed]",
      "text/plain": [
       "<Figure size 432x288 with 1 Axes>"
      ]
     },
     "metadata": {
      "needs_background": "light"
     },
     "output_type": "display_data"
    }
   ],
   "source": [
    "accuracy_scores_rf = {}\n",
    "\n",
    "for i in range(50,1050,50):\n",
    "    for cri in ['gini', 'entropy']:\n",
    "        rfc = RandomForestClassifier(n_estimators = i, criterion = cri, random_state = 101)\n",
    "        rfc.fit(X_train_credible, y_train_credible)\n",
    "        yhat_credible_rfc = rfc.predict(X_test_credible)\n",
    "        accuracy_scores_rf['{}_{}'.format(i, cri)] = accuracy_score(y_test_credible, yhat_credible_rfc)\n",
    "\n",
    "plt.plot(list(accuracy_scores_rf.keys()), list(accuracy_scores_rf.values()))\n",
    "optimal_es = max(accuracy_scores_rf.items(), key = lambda k : k[1])"
   ]
  },
  {
   "cell_type": "code",
   "execution_count": 118,
   "id": "650c9a9c",
   "metadata": {},
   "outputs": [
    {
     "name": "stdout",
     "output_type": "stream",
     "text": [
      "Optimal estimators: 250_entropy\n"
     ]
    }
   ],
   "source": [
    "print('Optimal estimators: {}'.format(optimal_es[0]))"
   ]
  },
  {
   "cell_type": "markdown",
   "id": "51b78528",
   "metadata": {},
   "source": [
    "- **Train Model**"
   ]
  },
  {
   "cell_type": "code",
   "execution_count": 34,
   "id": "e77c37a9",
   "metadata": {},
   "outputs": [
    {
     "data": {
      "text/plain": [
       "RandomForestClassifier(criterion='entropy', n_estimators=250, random_state=101)"
      ]
     },
     "execution_count": 34,
     "metadata": {},
     "output_type": "execute_result"
    }
   ],
   "source": [
    "rf = RandomForestClassifier(n_estimators = 250, criterion = 'entropy' ,random_state = 101)\n",
    "\n",
    "rf.fit(X_train_credible, y_train_credible)"
   ]
  },
  {
   "cell_type": "markdown",
   "id": "aa529709",
   "metadata": {},
   "source": [
    "- **Prediction**"
   ]
  },
  {
   "cell_type": "code",
   "execution_count": 35,
   "id": "6ebe9d2f",
   "metadata": {},
   "outputs": [],
   "source": [
    "yhat_rf = rf.predict(X_test_credible)"
   ]
  },
  {
   "cell_type": "code",
   "execution_count": 60,
   "id": "3f28e7b4",
   "metadata": {},
   "outputs": [
    {
     "data": {
      "text/plain": [
       "array([0, 0, 0, 0, 0])"
      ]
     },
     "execution_count": 60,
     "metadata": {},
     "output_type": "execute_result"
    }
   ],
   "source": [
    "yhat_rf[:5]"
   ]
  },
  {
   "cell_type": "code",
   "execution_count": 121,
   "id": "483f36bf",
   "metadata": {},
   "outputs": [
    {
     "data": {
      "text/plain": [
       "array([[2522,  311],\n",
       "       [ 462, 2697]], dtype=int64)"
      ]
     },
     "execution_count": 121,
     "metadata": {},
     "output_type": "execute_result"
    }
   ],
   "source": [
    "confusion_matrix(y_test_credible, yhat_rf)"
   ]
  },
  {
   "cell_type": "code",
   "execution_count": 122,
   "id": "1d304a5a",
   "metadata": {},
   "outputs": [
    {
     "name": "stdout",
     "output_type": "stream",
     "text": [
      "              precision    recall  f1-score   support\n",
      "\n",
      "           0       0.85      0.89      0.87      2833\n",
      "           1       0.90      0.85      0.87      3159\n",
      "\n",
      "    accuracy                           0.87      5992\n",
      "   macro avg       0.87      0.87      0.87      5992\n",
      "weighted avg       0.87      0.87      0.87      5992\n",
      "\n"
     ]
    }
   ],
   "source": [
    "print(classification_report(y_test_credible, yhat_rf))"
   ]
  },
  {
   "cell_type": "code",
   "execution_count": 123,
   "id": "2ffd4c6f",
   "metadata": {},
   "outputs": [
    {
     "data": {
      "text/plain": [
       "0.8709946595460614"
      ]
     },
     "execution_count": 123,
     "metadata": {},
     "output_type": "execute_result"
    }
   ],
   "source": [
    "accuracy_score(y_test_credible, yhat_rf)"
   ]
  },
  {
   "cell_type": "code",
   "execution_count": 36,
   "id": "201cf217",
   "metadata": {},
   "outputs": [
    {
     "data": {
      "text/plain": [
       "array([0.00138737, 0.07556314, 0.04166185, 0.00493869, 0.00953469,\n",
       "       0.01621954, 0.035212  , 0.08359646, 0.08433328, 0.05263492,\n",
       "       0.01417249, 0.02456463, 0.03495129, 0.05927795, 0.10272614,\n",
       "       0.09977115, 0.06621629, 0.01955731, 0.04251859, 0.0414669 ,\n",
       "       0.08969532])"
      ]
     },
     "execution_count": 36,
     "metadata": {},
     "output_type": "execute_result"
    }
   ],
   "source": []
  },
  {
   "cell_type": "code",
   "execution_count": 52,
   "id": "24338ab1",
   "metadata": {},
   "outputs": [
    {
     "data": {
      "text/plain": [
       "<AxesSubplot:ylabel='features'>"
      ]
     },
     "execution_count": 52,
     "metadata": {},
     "output_type": "execute_result"
    },
    {
     "data": {
      "image/png": "[encoded data removed]",
      "text/plain": [
       "<Figure size 720x720 with 1 Axes>"
      ]
     },
     "metadata": {
      "needs_background": "light"
     },
     "output_type": "display_data"
    }
   ],
   "source": [
    "plt.rcParams[\"figure.figsize\"] = (10,10)\n",
    "\n",
    "new = pd.DataFrame({'features': X_test_credible.columns, 'values': rf.feature_importances_})\n",
    "new = new.sort_values(by = 'values', ascending = False)\n",
    "new.head().plot.barh(x = 'features', y = 'values', rot = 0)"
   ]
  },
  {
   "cell_type": "code",
   "execution_count": null,
   "id": "b4133ecf",
   "metadata": {},
   "outputs": [],
   "source": []
  },
  {
   "cell_type": "code",
   "execution_count": null,
   "id": "ee9b58a1",
   "metadata": {},
   "outputs": [],
   "source": [
    "plt.barh(X_test_credible.columns, rf.feature_importances_)"
   ]
  },
  {
   "cell_type": "code",
   "execution_count": 35,
   "id": "77a387a8",
   "metadata": {},
   "outputs": [
    {
     "name": "stdout",
     "output_type": "stream",
     "text": [
      "Collecting shap\n",
      "  Downloading shap-0.41.0-cp39-cp39-macosx_10_9_x86_64.whl (436 kB)\n",
      "\u001b[K     |████████████████████████████████| 436 kB 537 kB/s eta 0:00:01\n",
      "\u001b[?25hRequirement already satisfied: numba in /Users/vuongthanhcong/opt/anaconda3/lib/python3.9/site-packages (from shap) (0.55.1)\n",
      "Collecting slicer==0.0.7\n",
      "  Downloading slicer-0.0.7-py3-none-any.whl (14 kB)\n",
      "Requirement already satisfied: cloudpickle in /Users/vuongthanhcong/opt/anaconda3/lib/python3.9/site-packages (from shap) (2.0.0)\n",
      "Requirement already satisfied: packaging>20.9 in /Users/vuongthanhcong/opt/anaconda3/lib/python3.9/site-packages (from shap) (21.3)\n",
      "Requirement already satisfied: scikit-learn in /Users/vuongthanhcong/opt/anaconda3/lib/python3.9/site-packages (from shap) (1.0.2)\n",
      "Requirement already satisfied: numpy in /Users/vuongthanhcong/opt/anaconda3/lib/python3.9/site-packages (from shap) (1.21.5)\n",
      "Requirement already satisfied: scipy in /Users/vuongthanhcong/opt/anaconda3/lib/python3.9/site-packages (from shap) (1.7.3)\n",
      "Requirement already satisfied: tqdm>4.25.0 in /Users/vuongthanhcong/opt/anaconda3/lib/python3.9/site-packages (from shap) (4.64.0)\n",
      "Requirement already satisfied: pandas in /Users/vuongthanhcong/opt/anaconda3/lib/python3.9/site-packages (from shap) (1.4.2)\n",
      "Requirement already satisfied: pyparsing!=3.0.5,>=2.0.2 in /Users/vuongthanhcong/opt/anaconda3/lib/python3.9/site-packages (from packaging>20.9->shap) (3.0.4)\n",
      "Requirement already satisfied: llvmlite<0.39,>=0.38.0rc1 in /Users/vuongthanhcong/opt/anaconda3/lib/python3.9/site-packages (from numba->shap) (0.38.0)\n",
      "Requirement already satisfied: setuptools in /Users/vuongthanhcong/opt/anaconda3/lib/python3.9/site-packages (from numba->shap) (61.2.0)\n",
      "Requirement already satisfied: python-dateutil>=2.8.1 in /Users/vuongthanhcong/opt/anaconda3/lib/python3.9/site-packages (from pandas->shap) (2.8.2)\n",
      "Requirement already satisfied: pytz>=2020.1 in /Users/vuongthanhcong/opt/anaconda3/lib/python3.9/site-packages (from pandas->shap) (2021.3)\n",
      "Requirement already satisfied: six>=1.5 in /Users/vuongthanhcong/opt/anaconda3/lib/python3.9/site-packages (from python-dateutil>=2.8.1->pandas->shap) (1.16.0)\n",
      "Requirement already satisfied: threadpoolctl>=2.0.0 in /Users/vuongthanhcong/opt/anaconda3/lib/python3.9/site-packages (from scikit-learn->shap) (2.2.0)\n",
      "Requirement already satisfied: joblib>=0.11 in /Users/vuongthanhcong/opt/anaconda3/lib/python3.9/site-packages (from scikit-learn->shap) (1.1.0)\n",
      "Installing collected packages: slicer, shap\n",
      "Successfully installed shap-0.41.0 slicer-0.0.7\n"
     ]
    }
   ],
   "source": [
    "!pip install shap"
   ]
  },
  {
   "cell_type": "code",
   "execution_count": 28,
   "id": "52dc01dd",
   "metadata": {},
   "outputs": [],
   "source": [
    "import shap"
   ]
  },
  {
   "cell_type": "code",
   "execution_count": null,
   "id": "04cabefb",
   "metadata": {},
   "outputs": [],
   "source": [
    "explainer = shap.TreeExplainer(rf)\n",
    "shap_values = explainer.shap_values(X_test_credible)\n",
    "\n",
    "shap.summary_plot(shap_values, X_test_credible, plot_type=\"bar\")"
   ]
  },
  {
   "cell_type": "code",
   "execution_count": 26,
   "id": "35875f29",
   "metadata": {},
   "outputs": [
    {
     "ename": "ValueError",
     "evalue": "shape mismatch: objects cannot be broadcast to a single shape",
     "output_type": "error",
     "traceback": [
      "\u001b[0;31m---------------------------------------------------------------------------\u001b[0m",
      "\u001b[0;31mValueError\u001b[0m                                Traceback (most recent call last)",
      "Input \u001b[0;32mIn [26]\u001b[0m, in \u001b[0;36m<cell line: 1>\u001b[0;34m()\u001b[0m\n\u001b[0;32m----> 1\u001b[0m \u001b[43mplt\u001b[49m\u001b[38;5;241;43m.\u001b[39;49m\u001b[43mbarh\u001b[49m\u001b[43m(\u001b[49m\u001b[43mdata_credible\u001b[49m\u001b[38;5;241;43m.\u001b[39;49m\u001b[43mcolumns\u001b[49m\u001b[43m,\u001b[49m\u001b[43m \u001b[49m\u001b[43mrf\u001b[49m\u001b[38;5;241;43m.\u001b[39;49m\u001b[43mfeature_importances_\u001b[49m\u001b[43m)\u001b[49m\n",
      "File \u001b[0;32m~/opt/anaconda3/lib/python3.9/site-packages/matplotlib/pyplot.py:2403\u001b[0m, in \u001b[0;36mbarh\u001b[0;34m(y, width, height, left, align, **kwargs)\u001b[0m\n\u001b[1;32m   2401\u001b[0m \u001b[38;5;129m@_copy_docstring_and_deprecators\u001b[39m(Axes\u001b[38;5;241m.\u001b[39mbarh)\n\u001b[1;32m   2402\u001b[0m \u001b[38;5;28;01mdef\u001b[39;00m \u001b[38;5;21mbarh\u001b[39m(y, width, height\u001b[38;5;241m=\u001b[39m\u001b[38;5;241m0.8\u001b[39m, left\u001b[38;5;241m=\u001b[39m\u001b[38;5;28;01mNone\u001b[39;00m, \u001b[38;5;241m*\u001b[39m, align\u001b[38;5;241m=\u001b[39m\u001b[38;5;124m'\u001b[39m\u001b[38;5;124mcenter\u001b[39m\u001b[38;5;124m'\u001b[39m, \u001b[38;5;241m*\u001b[39m\u001b[38;5;241m*\u001b[39mkwargs):\n\u001b[0;32m-> 2403\u001b[0m     \u001b[38;5;28;01mreturn\u001b[39;00m \u001b[43mgca\u001b[49m\u001b[43m(\u001b[49m\u001b[43m)\u001b[49m\u001b[38;5;241;43m.\u001b[39;49m\u001b[43mbarh\u001b[49m\u001b[43m(\u001b[49m\n\u001b[1;32m   2404\u001b[0m \u001b[43m        \u001b[49m\u001b[43my\u001b[49m\u001b[43m,\u001b[49m\u001b[43m \u001b[49m\u001b[43mwidth\u001b[49m\u001b[43m,\u001b[49m\u001b[43m \u001b[49m\u001b[43mheight\u001b[49m\u001b[38;5;241;43m=\u001b[39;49m\u001b[43mheight\u001b[49m\u001b[43m,\u001b[49m\u001b[43m \u001b[49m\u001b[43mleft\u001b[49m\u001b[38;5;241;43m=\u001b[39;49m\u001b[43mleft\u001b[49m\u001b[43m,\u001b[49m\u001b[43m \u001b[49m\u001b[43malign\u001b[49m\u001b[38;5;241;43m=\u001b[39;49m\u001b[43malign\u001b[49m\u001b[43m,\u001b[49m\u001b[43m \u001b[49m\u001b[38;5;241;43m*\u001b[39;49m\u001b[38;5;241;43m*\u001b[39;49m\u001b[43mkwargs\u001b[49m\u001b[43m)\u001b[49m\n",
      "File \u001b[0;32m~/opt/anaconda3/lib/python3.9/site-packages/matplotlib/axes/_axes.py:2551\u001b[0m, in \u001b[0;36mAxes.barh\u001b[0;34m(self, y, width, height, left, align, **kwargs)\u001b[0m\n\u001b[1;32m   2452\u001b[0m \u001b[38;5;124mr\u001b[39m\u001b[38;5;124;03m\"\"\"\u001b[39;00m\n\u001b[1;32m   2453\u001b[0m \u001b[38;5;124;03mMake a horizontal bar plot.\u001b[39;00m\n\u001b[1;32m   2454\u001b[0m \n\u001b[0;32m   (...)\u001b[0m\n\u001b[1;32m   2548\u001b[0m \u001b[38;5;124;03m.\u001b[39;00m\n\u001b[1;32m   2549\u001b[0m \u001b[38;5;124;03m\"\"\"\u001b[39;00m\n\u001b[1;32m   2550\u001b[0m kwargs\u001b[38;5;241m.\u001b[39msetdefault(\u001b[38;5;124m'\u001b[39m\u001b[38;5;124morientation\u001b[39m\u001b[38;5;124m'\u001b[39m, \u001b[38;5;124m'\u001b[39m\u001b[38;5;124mhorizontal\u001b[39m\u001b[38;5;124m'\u001b[39m)\n\u001b[0;32m-> 2551\u001b[0m patches \u001b[38;5;241m=\u001b[39m \u001b[38;5;28;43mself\u001b[39;49m\u001b[38;5;241;43m.\u001b[39;49m\u001b[43mbar\u001b[49m\u001b[43m(\u001b[49m\u001b[43mx\u001b[49m\u001b[38;5;241;43m=\u001b[39;49m\u001b[43mleft\u001b[49m\u001b[43m,\u001b[49m\u001b[43m \u001b[49m\u001b[43mheight\u001b[49m\u001b[38;5;241;43m=\u001b[39;49m\u001b[43mheight\u001b[49m\u001b[43m,\u001b[49m\u001b[43m \u001b[49m\u001b[43mwidth\u001b[49m\u001b[38;5;241;43m=\u001b[39;49m\u001b[43mwidth\u001b[49m\u001b[43m,\u001b[49m\u001b[43m \u001b[49m\u001b[43mbottom\u001b[49m\u001b[38;5;241;43m=\u001b[39;49m\u001b[43my\u001b[49m\u001b[43m,\u001b[49m\n\u001b[1;32m   2552\u001b[0m \u001b[43m                   \u001b[49m\u001b[43malign\u001b[49m\u001b[38;5;241;43m=\u001b[39;49m\u001b[43malign\u001b[49m\u001b[43m,\u001b[49m\u001b[43m \u001b[49m\u001b[38;5;241;43m*\u001b[39;49m\u001b[38;5;241;43m*\u001b[39;49m\u001b[43mkwargs\u001b[49m\u001b[43m)\u001b[49m\n\u001b[1;32m   2553\u001b[0m \u001b[38;5;28;01mreturn\u001b[39;00m patches\n",
      "File \u001b[0;32m~/opt/anaconda3/lib/python3.9/site-packages/matplotlib/__init__.py:1412\u001b[0m, in \u001b[0;36m_preprocess_data.<locals>.inner\u001b[0;34m(ax, data, *args, **kwargs)\u001b[0m\n\u001b[1;32m   1409\u001b[0m \u001b[38;5;129m@functools\u001b[39m\u001b[38;5;241m.\u001b[39mwraps(func)\n\u001b[1;32m   1410\u001b[0m \u001b[38;5;28;01mdef\u001b[39;00m \u001b[38;5;21minner\u001b[39m(ax, \u001b[38;5;241m*\u001b[39margs, data\u001b[38;5;241m=\u001b[39m\u001b[38;5;28;01mNone\u001b[39;00m, \u001b[38;5;241m*\u001b[39m\u001b[38;5;241m*\u001b[39mkwargs):\n\u001b[1;32m   1411\u001b[0m     \u001b[38;5;28;01mif\u001b[39;00m data \u001b[38;5;129;01mis\u001b[39;00m \u001b[38;5;28;01mNone\u001b[39;00m:\n\u001b[0;32m-> 1412\u001b[0m         \u001b[38;5;28;01mreturn\u001b[39;00m \u001b[43mfunc\u001b[49m\u001b[43m(\u001b[49m\u001b[43max\u001b[49m\u001b[43m,\u001b[49m\u001b[43m \u001b[49m\u001b[38;5;241;43m*\u001b[39;49m\u001b[38;5;28;43mmap\u001b[39;49m\u001b[43m(\u001b[49m\u001b[43msanitize_sequence\u001b[49m\u001b[43m,\u001b[49m\u001b[43m \u001b[49m\u001b[43margs\u001b[49m\u001b[43m)\u001b[49m\u001b[43m,\u001b[49m\u001b[43m \u001b[49m\u001b[38;5;241;43m*\u001b[39;49m\u001b[38;5;241;43m*\u001b[39;49m\u001b[43mkwargs\u001b[49m\u001b[43m)\u001b[49m\n\u001b[1;32m   1414\u001b[0m     bound \u001b[38;5;241m=\u001b[39m new_sig\u001b[38;5;241m.\u001b[39mbind(ax, \u001b[38;5;241m*\u001b[39margs, \u001b[38;5;241m*\u001b[39m\u001b[38;5;241m*\u001b[39mkwargs)\n\u001b[1;32m   1415\u001b[0m     auto_label \u001b[38;5;241m=\u001b[39m (bound\u001b[38;5;241m.\u001b[39marguments\u001b[38;5;241m.\u001b[39mget(label_namer)\n\u001b[1;32m   1416\u001b[0m                   \u001b[38;5;129;01mor\u001b[39;00m bound\u001b[38;5;241m.\u001b[39mkwargs\u001b[38;5;241m.\u001b[39mget(label_namer))\n",
      "File \u001b[0;32m~/opt/anaconda3/lib/python3.9/site-packages/matplotlib/axes/_axes.py:2342\u001b[0m, in \u001b[0;36mAxes.bar\u001b[0;34m(self, x, height, width, bottom, align, **kwargs)\u001b[0m\n\u001b[1;32m   2339\u001b[0m     \u001b[38;5;28;01mif\u001b[39;00m yerr \u001b[38;5;129;01mis\u001b[39;00m \u001b[38;5;129;01mnot\u001b[39;00m \u001b[38;5;28;01mNone\u001b[39;00m:\n\u001b[1;32m   2340\u001b[0m         yerr \u001b[38;5;241m=\u001b[39m \u001b[38;5;28mself\u001b[39m\u001b[38;5;241m.\u001b[39m_convert_dx(yerr, y0, y, \u001b[38;5;28mself\u001b[39m\u001b[38;5;241m.\u001b[39mconvert_yunits)\n\u001b[0;32m-> 2342\u001b[0m x, height, width, y, linewidth, hatch \u001b[38;5;241m=\u001b[39m \u001b[43mnp\u001b[49m\u001b[38;5;241;43m.\u001b[39;49m\u001b[43mbroadcast_arrays\u001b[49m\u001b[43m(\u001b[49m\n\u001b[1;32m   2343\u001b[0m \u001b[43m    \u001b[49m\u001b[38;5;66;43;03m# Make args iterable too.\u001b[39;49;00m\n\u001b[1;32m   2344\u001b[0m \u001b[43m    \u001b[49m\u001b[43mnp\u001b[49m\u001b[38;5;241;43m.\u001b[39;49m\u001b[43matleast_1d\u001b[49m\u001b[43m(\u001b[49m\u001b[43mx\u001b[49m\u001b[43m)\u001b[49m\u001b[43m,\u001b[49m\u001b[43m \u001b[49m\u001b[43mheight\u001b[49m\u001b[43m,\u001b[49m\u001b[43m \u001b[49m\u001b[43mwidth\u001b[49m\u001b[43m,\u001b[49m\u001b[43m \u001b[49m\u001b[43my\u001b[49m\u001b[43m,\u001b[49m\u001b[43m \u001b[49m\u001b[43mlinewidth\u001b[49m\u001b[43m,\u001b[49m\u001b[43m \u001b[49m\u001b[43mhatch\u001b[49m\u001b[43m)\u001b[49m\n\u001b[1;32m   2346\u001b[0m \u001b[38;5;66;03m# Now that units have been converted, set the tick locations.\u001b[39;00m\n\u001b[1;32m   2347\u001b[0m \u001b[38;5;28;01mif\u001b[39;00m orientation \u001b[38;5;241m==\u001b[39m \u001b[38;5;124m'\u001b[39m\u001b[38;5;124mvertical\u001b[39m\u001b[38;5;124m'\u001b[39m:\n",
      "File \u001b[0;32m<__array_function__ internals>:5\u001b[0m, in \u001b[0;36mbroadcast_arrays\u001b[0;34m(*args, **kwargs)\u001b[0m\n",
      "File \u001b[0;32m~/opt/anaconda3/lib/python3.9/site-packages/numpy/lib/stride_tricks.py:538\u001b[0m, in \u001b[0;36mbroadcast_arrays\u001b[0;34m(subok, *args)\u001b[0m\n\u001b[1;32m    531\u001b[0m \u001b[38;5;66;03m# nditer is not used here to avoid the limit of 32 arrays.\u001b[39;00m\n\u001b[1;32m    532\u001b[0m \u001b[38;5;66;03m# Otherwise, something like the following one-liner would suffice:\u001b[39;00m\n\u001b[1;32m    533\u001b[0m \u001b[38;5;66;03m# return np.nditer(args, flags=['multi_index', 'zerosize_ok'],\u001b[39;00m\n\u001b[1;32m    534\u001b[0m \u001b[38;5;66;03m#                  order='C').itviews\u001b[39;00m\n\u001b[1;32m    536\u001b[0m args \u001b[38;5;241m=\u001b[39m [np\u001b[38;5;241m.\u001b[39marray(_m, copy\u001b[38;5;241m=\u001b[39m\u001b[38;5;28;01mFalse\u001b[39;00m, subok\u001b[38;5;241m=\u001b[39msubok) \u001b[38;5;28;01mfor\u001b[39;00m _m \u001b[38;5;129;01min\u001b[39;00m args]\n\u001b[0;32m--> 538\u001b[0m shape \u001b[38;5;241m=\u001b[39m \u001b[43m_broadcast_shape\u001b[49m\u001b[43m(\u001b[49m\u001b[38;5;241;43m*\u001b[39;49m\u001b[43margs\u001b[49m\u001b[43m)\u001b[49m\n\u001b[1;32m    540\u001b[0m \u001b[38;5;28;01mif\u001b[39;00m \u001b[38;5;28mall\u001b[39m(array\u001b[38;5;241m.\u001b[39mshape \u001b[38;5;241m==\u001b[39m shape \u001b[38;5;28;01mfor\u001b[39;00m array \u001b[38;5;129;01min\u001b[39;00m args):\n\u001b[1;32m    541\u001b[0m     \u001b[38;5;66;03m# Common case where nothing needs to be broadcasted.\u001b[39;00m\n\u001b[1;32m    542\u001b[0m     \u001b[38;5;28;01mreturn\u001b[39;00m args\n",
      "File \u001b[0;32m~/opt/anaconda3/lib/python3.9/site-packages/numpy/lib/stride_tricks.py:420\u001b[0m, in \u001b[0;36m_broadcast_shape\u001b[0;34m(*args)\u001b[0m\n\u001b[1;32m    415\u001b[0m \u001b[38;5;124;03m\"\"\"Returns the shape of the arrays that would result from broadcasting the\u001b[39;00m\n\u001b[1;32m    416\u001b[0m \u001b[38;5;124;03msupplied arrays against each other.\u001b[39;00m\n\u001b[1;32m    417\u001b[0m \u001b[38;5;124;03m\"\"\"\u001b[39;00m\n\u001b[1;32m    418\u001b[0m \u001b[38;5;66;03m# use the old-iterator because np.nditer does not handle size 0 arrays\u001b[39;00m\n\u001b[1;32m    419\u001b[0m \u001b[38;5;66;03m# consistently\u001b[39;00m\n\u001b[0;32m--> 420\u001b[0m b \u001b[38;5;241m=\u001b[39m \u001b[43mnp\u001b[49m\u001b[38;5;241;43m.\u001b[39;49m\u001b[43mbroadcast\u001b[49m\u001b[43m(\u001b[49m\u001b[38;5;241;43m*\u001b[39;49m\u001b[43margs\u001b[49m\u001b[43m[\u001b[49m\u001b[43m:\u001b[49m\u001b[38;5;241;43m32\u001b[39;49m\u001b[43m]\u001b[49m\u001b[43m)\u001b[49m\n\u001b[1;32m    421\u001b[0m \u001b[38;5;66;03m# unfortunately, it cannot handle 32 or more arguments directly\u001b[39;00m\n\u001b[1;32m    422\u001b[0m \u001b[38;5;28;01mfor\u001b[39;00m pos \u001b[38;5;129;01min\u001b[39;00m \u001b[38;5;28mrange\u001b[39m(\u001b[38;5;241m32\u001b[39m, \u001b[38;5;28mlen\u001b[39m(args), \u001b[38;5;241m31\u001b[39m):\n\u001b[1;32m    423\u001b[0m     \u001b[38;5;66;03m# ironically, np.broadcast does not properly handle np.broadcast\u001b[39;00m\n\u001b[1;32m    424\u001b[0m     \u001b[38;5;66;03m# objects (it treats them as scalars)\u001b[39;00m\n\u001b[1;32m    425\u001b[0m     \u001b[38;5;66;03m# use broadcasting to avoid allocating the full array\u001b[39;00m\n",
      "\u001b[0;31mValueError\u001b[0m: shape mismatch: objects cannot be broadcast to a single shape"
     ]
    },
    {
     "data": {
      "image/png": "[encoded data removed]",
      "text/plain": [
       "<Figure size 432x288 with 1 Axes>"
      ]
     },
     "metadata": {
      "needs_background": "light"
     },
     "output_type": "display_data"
    }
   ],
   "source": [
    "plt.barh(X_test_credible.columns, rf.feature_importances_)"
   ]
  },
  {
   "cell_type": "markdown",
   "id": "009d2e84",
   "metadata": {},
   "source": [
    "#### 3.6. Ridge Regression"
   ]
  },
  {
   "cell_type": "markdown",
   "id": "3c753250",
   "metadata": {},
   "source": [
    "- **Grid Search for the hyperparameters in Ridge Regression Model**"
   ]
  },
  {
   "cell_type": "code",
   "execution_count": 45,
   "id": "1e7b87d9",
   "metadata": {},
   "outputs": [],
   "source": [
    "from sklearn.linear_model import Ridge"
   ]
  },
  {
   "cell_type": "code",
   "execution_count": 46,
   "id": "dc73e3a8",
   "metadata": {},
   "outputs": [],
   "source": [
    "model_test_ridge = Ridge()"
   ]
  },
  {
   "cell_type": "markdown",
   "id": "e4b839c5",
   "metadata": {},
   "source": [
    "We create a dictionary of parameter values:"
   ]
  },
  {
   "cell_type": "code",
   "execution_count": 47,
   "id": "0e0305bd",
   "metadata": {},
   "outputs": [],
   "source": [
    "alpha_value = [{'alpha' : [0.001, 0.01, 0.1, 1, 100, 1000, 10000, 100000]}]"
   ]
  },
  {
   "cell_type": "code",
   "execution_count": 48,
   "id": "2be634a1",
   "metadata": {},
   "outputs": [],
   "source": [
    "find_alpha = GridSearchCV(model_test_ridge, alpha_value, cv = 4, verbose = True, n_jobs = -1)\n",
    "# Grid1 = GridSearchCV(RR, parameters1,cv=4)"
   ]
  },
  {
   "cell_type": "code",
   "execution_count": 49,
   "id": "b6a2bd82",
   "metadata": {},
   "outputs": [
    {
     "name": "stdout",
     "output_type": "stream",
     "text": [
      "Fitting 4 folds for each of 8 candidates, totalling 32 fits\n"
     ]
    }
   ],
   "source": [
    "find_best_alpha = find_alpha.fit(data_credible.drop('credible_group', axis = 1), data_credible['credible_group'])"
   ]
  },
  {
   "cell_type": "code",
   "execution_count": 50,
   "id": "d71cb7b4",
   "metadata": {},
   "outputs": [
    {
     "data": {
      "text/plain": [
       "Ridge(alpha=0.01)"
      ]
     },
     "execution_count": 50,
     "metadata": {},
     "output_type": "execute_result"
    }
   ],
   "source": [
    "best_alpha = find_best_alpha.best_estimator_\n",
    "best_alpha"
   ]
  },
  {
   "cell_type": "markdown",
   "id": "986fb0a7",
   "metadata": {},
   "source": [
    "- **Ridge Regression**"
   ]
  },
  {
   "cell_type": "code",
   "execution_count": 51,
   "id": "09279334",
   "metadata": {},
   "outputs": [
    {
     "data": {
      "text/plain": [
       "0.15692880108256857"
      ]
     },
     "execution_count": 51,
     "metadata": {},
     "output_type": "execute_result"
    }
   ],
   "source": [
    "RidgeModel = Ridge(alpha = 0.01)\n",
    "\n",
    "RidgeModel.fit(X_train_credible, y_train_credible)\n",
    "\n",
    "yhat_ridge = RidgeModel.predict(X_test_credible)\n",
    "\n",
    "RidgeModel.score(X_test_credible, y_test_credible)"
   ]
  },
  {
   "cell_type": "code",
   "execution_count": null,
   "id": "80efa79d",
   "metadata": {},
   "outputs": [],
   "source": []
  }
 ],
 "metadata": {
  "kernelspec": {
   "display_name": "Python 3 (ipykernel)",
   "language": "python",
   "name": "python3"
  },
  "language_info": {
   "codemirror_mode": {
    "name": "ipython",
    "version": 3
   },
   "file_extension": ".py",
   "mimetype": "text/x-python",
   "name": "python",
   "nbconvert_exporter": "python",
   "pygments_lexer": "ipython3",
   "version": "3.9.7"
  }
 },
 "nbformat": 4,
 "nbformat_minor": 5
}
